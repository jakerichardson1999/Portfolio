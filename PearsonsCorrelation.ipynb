{
 "cells": [
  {
   "cell_type": "code",
   "execution_count": null,
   "id": "b4f26d1f",
   "metadata": {},
   "outputs": [],
   "source": [
    "#This data was given to me in a CSV file and I was asked clean the data, carry out descriptive statistics and to\n",
    "# generate graphs. The aim of the analysis was to see if there was a relationship between the two variables.\n",
    "# the hypothesis that there would be a statistically significant relationship between the two scores was accepted.\n",
    "# A Pearson's correlation was used to test this hypothesis."
   ]
  },
  {
   "cell_type": "code",
   "execution_count": 1,
   "id": "94251bb4",
   "metadata": {},
   "outputs": [],
   "source": [
    "import pandas as pd"
   ]
  },
  {
   "cell_type": "code",
   "execution_count": 5,
   "id": "9c706791",
   "metadata": {},
   "outputs": [],
   "source": [
    "df = pd.read_csv('SRPython.csv')"
   ]
  },
  {
   "cell_type": "code",
   "execution_count": 6,
   "id": "52e87781",
   "metadata": {},
   "outputs": [
    {
     "data": {
      "text/html": [
       "<div>\n",
       "<style scoped>\n",
       "    .dataframe tbody tr th:only-of-type {\n",
       "        vertical-align: middle;\n",
       "    }\n",
       "\n",
       "    .dataframe tbody tr th {\n",
       "        vertical-align: top;\n",
       "    }\n",
       "\n",
       "    .dataframe thead th {\n",
       "        text-align: right;\n",
       "    }\n",
       "</style>\n",
       "<table border=\"1\" class=\"dataframe\">\n",
       "  <thead>\n",
       "    <tr style=\"text-align: right;\">\n",
       "      <th></th>\n",
       "      <th>ID</th>\n",
       "      <th>SUS.Score</th>\n",
       "      <th>RTLX.Score</th>\n",
       "    </tr>\n",
       "  </thead>\n",
       "  <tbody>\n",
       "    <tr>\n",
       "      <th>0</th>\n",
       "      <td>1</td>\n",
       "      <td>15.0</td>\n",
       "      <td>25</td>\n",
       "    </tr>\n",
       "    <tr>\n",
       "      <th>1</th>\n",
       "      <td>2</td>\n",
       "      <td>55.0</td>\n",
       "      <td>38</td>\n",
       "    </tr>\n",
       "    <tr>\n",
       "      <th>2</th>\n",
       "      <td>3</td>\n",
       "      <td>87.5</td>\n",
       "      <td>42</td>\n",
       "    </tr>\n",
       "    <tr>\n",
       "      <th>3</th>\n",
       "      <td>4</td>\n",
       "      <td>45.0</td>\n",
       "      <td>39</td>\n",
       "    </tr>\n",
       "    <tr>\n",
       "      <th>4</th>\n",
       "      <td>5</td>\n",
       "      <td>80.0</td>\n",
       "      <td>49</td>\n",
       "    </tr>\n",
       "  </tbody>\n",
       "</table>\n",
       "</div>"
      ],
      "text/plain": [
       "   ID  SUS.Score  RTLX.Score\n",
       "0   1       15.0          25\n",
       "1   2       55.0          38\n",
       "2   3       87.5          42\n",
       "3   4       45.0          39\n",
       "4   5       80.0          49"
      ]
     },
     "execution_count": 6,
     "metadata": {},
     "output_type": "execute_result"
    }
   ],
   "source": [
    "df.head()"
   ]
  },
  {
   "cell_type": "code",
   "execution_count": 7,
   "id": "44e61dd7",
   "metadata": {},
   "outputs": [
    {
     "data": {
      "text/html": [
       "<div>\n",
       "<style scoped>\n",
       "    .dataframe tbody tr th:only-of-type {\n",
       "        vertical-align: middle;\n",
       "    }\n",
       "\n",
       "    .dataframe tbody tr th {\n",
       "        vertical-align: top;\n",
       "    }\n",
       "\n",
       "    .dataframe thead th {\n",
       "        text-align: right;\n",
       "    }\n",
       "</style>\n",
       "<table border=\"1\" class=\"dataframe\">\n",
       "  <thead>\n",
       "    <tr style=\"text-align: right;\">\n",
       "      <th></th>\n",
       "      <th>ID</th>\n",
       "      <th>SUS.Score</th>\n",
       "      <th>RTLX.Score</th>\n",
       "    </tr>\n",
       "  </thead>\n",
       "  <tbody>\n",
       "    <tr>\n",
       "      <th>95</th>\n",
       "      <td>96</td>\n",
       "      <td>82.5</td>\n",
       "      <td>51</td>\n",
       "    </tr>\n",
       "    <tr>\n",
       "      <th>96</th>\n",
       "      <td>97</td>\n",
       "      <td>75.0</td>\n",
       "      <td>54</td>\n",
       "    </tr>\n",
       "    <tr>\n",
       "      <th>97</th>\n",
       "      <td>98</td>\n",
       "      <td>12.5</td>\n",
       "      <td>31</td>\n",
       "    </tr>\n",
       "    <tr>\n",
       "      <th>98</th>\n",
       "      <td>99</td>\n",
       "      <td>87.5</td>\n",
       "      <td>50</td>\n",
       "    </tr>\n",
       "    <tr>\n",
       "      <th>99</th>\n",
       "      <td>100</td>\n",
       "      <td>65.0</td>\n",
       "      <td>51</td>\n",
       "    </tr>\n",
       "  </tbody>\n",
       "</table>\n",
       "</div>"
      ],
      "text/plain": [
       "     ID  SUS.Score  RTLX.Score\n",
       "95   96       82.5          51\n",
       "96   97       75.0          54\n",
       "97   98       12.5          31\n",
       "98   99       87.5          50\n",
       "99  100       65.0          51"
      ]
     },
     "execution_count": 7,
     "metadata": {},
     "output_type": "execute_result"
    }
   ],
   "source": [
    "df.tail()"
   ]
  },
  {
   "cell_type": "code",
   "execution_count": 18,
   "id": "00d2860a",
   "metadata": {},
   "outputs": [
    {
     "data": {
      "text/html": [
       "<div>\n",
       "<style scoped>\n",
       "    .dataframe tbody tr th:only-of-type {\n",
       "        vertical-align: middle;\n",
       "    }\n",
       "\n",
       "    .dataframe tbody tr th {\n",
       "        vertical-align: top;\n",
       "    }\n",
       "\n",
       "    .dataframe thead th {\n",
       "        text-align: right;\n",
       "    }\n",
       "</style>\n",
       "<table border=\"1\" class=\"dataframe\">\n",
       "  <thead>\n",
       "    <tr style=\"text-align: right;\">\n",
       "      <th></th>\n",
       "      <th>ID</th>\n",
       "      <th>SUS.Score</th>\n",
       "      <th>RTLX.Score</th>\n",
       "    </tr>\n",
       "  </thead>\n",
       "  <tbody>\n",
       "    <tr>\n",
       "      <th>count</th>\n",
       "      <td>100.000000</td>\n",
       "      <td>100.000000</td>\n",
       "      <td>100.00000</td>\n",
       "    </tr>\n",
       "    <tr>\n",
       "      <th>mean</th>\n",
       "      <td>50.500000</td>\n",
       "      <td>53.650000</td>\n",
       "      <td>42.62000</td>\n",
       "    </tr>\n",
       "    <tr>\n",
       "      <th>std</th>\n",
       "      <td>29.011492</td>\n",
       "      <td>24.320098</td>\n",
       "      <td>9.40855</td>\n",
       "    </tr>\n",
       "    <tr>\n",
       "      <th>min</th>\n",
       "      <td>1.000000</td>\n",
       "      <td>-2.500000</td>\n",
       "      <td>20.00000</td>\n",
       "    </tr>\n",
       "    <tr>\n",
       "      <th>25%</th>\n",
       "      <td>25.750000</td>\n",
       "      <td>35.000000</td>\n",
       "      <td>36.75000</td>\n",
       "    </tr>\n",
       "    <tr>\n",
       "      <th>50%</th>\n",
       "      <td>50.500000</td>\n",
       "      <td>52.500000</td>\n",
       "      <td>42.50000</td>\n",
       "    </tr>\n",
       "    <tr>\n",
       "      <th>75%</th>\n",
       "      <td>75.250000</td>\n",
       "      <td>70.000000</td>\n",
       "      <td>50.00000</td>\n",
       "    </tr>\n",
       "    <tr>\n",
       "      <th>max</th>\n",
       "      <td>100.000000</td>\n",
       "      <td>105.000000</td>\n",
       "      <td>62.00000</td>\n",
       "    </tr>\n",
       "  </tbody>\n",
       "</table>\n",
       "</div>"
      ],
      "text/plain": [
       "               ID   SUS.Score  RTLX.Score\n",
       "count  100.000000  100.000000   100.00000\n",
       "mean    50.500000   53.650000    42.62000\n",
       "std     29.011492   24.320098     9.40855\n",
       "min      1.000000   -2.500000    20.00000\n",
       "25%     25.750000   35.000000    36.75000\n",
       "50%     50.500000   52.500000    42.50000\n",
       "75%     75.250000   70.000000    50.00000\n",
       "max    100.000000  105.000000    62.00000"
      ]
     },
     "execution_count": 18,
     "metadata": {},
     "output_type": "execute_result"
    }
   ],
   "source": [
    "df.describe()"
   ]
  },
  {
   "cell_type": "code",
   "execution_count": 19,
   "id": "f3f8399e",
   "metadata": {},
   "outputs": [],
   "source": [
    "#For SUS score, the minimum possible score is 0, and it appears there is a value of -2.5. The data will need to\n",
    "#be cleaned of any impossible values."
   ]
  },
  {
   "cell_type": "code",
   "execution_count": 21,
   "id": "68358d1f",
   "metadata": {},
   "outputs": [
    {
     "name": "stdout",
     "output_type": "stream",
     "text": [
      "ID              int64\n",
      "SUS.Score     float64\n",
      "RTLX.Score      int64\n",
      "dtype: object\n"
     ]
    }
   ],
   "source": [
    "print(df.dtypes)"
   ]
  },
  {
   "cell_type": "code",
   "execution_count": 22,
   "id": "982aa292",
   "metadata": {},
   "outputs": [
    {
     "data": {
      "text/html": [
       "<div>\n",
       "<style scoped>\n",
       "    .dataframe tbody tr th:only-of-type {\n",
       "        vertical-align: middle;\n",
       "    }\n",
       "\n",
       "    .dataframe tbody tr th {\n",
       "        vertical-align: top;\n",
       "    }\n",
       "\n",
       "    .dataframe thead th {\n",
       "        text-align: right;\n",
       "    }\n",
       "</style>\n",
       "<table border=\"1\" class=\"dataframe\">\n",
       "  <thead>\n",
       "    <tr style=\"text-align: right;\">\n",
       "      <th></th>\n",
       "      <th>RTLX.Score</th>\n",
       "    </tr>\n",
       "  </thead>\n",
       "  <tbody>\n",
       "    <tr>\n",
       "      <th>0</th>\n",
       "      <td>25.0</td>\n",
       "    </tr>\n",
       "    <tr>\n",
       "      <th>1</th>\n",
       "      <td>38.0</td>\n",
       "    </tr>\n",
       "    <tr>\n",
       "      <th>2</th>\n",
       "      <td>42.0</td>\n",
       "    </tr>\n",
       "    <tr>\n",
       "      <th>3</th>\n",
       "      <td>39.0</td>\n",
       "    </tr>\n",
       "    <tr>\n",
       "      <th>4</th>\n",
       "      <td>49.0</td>\n",
       "    </tr>\n",
       "    <tr>\n",
       "      <th>...</th>\n",
       "      <td>...</td>\n",
       "    </tr>\n",
       "    <tr>\n",
       "      <th>95</th>\n",
       "      <td>51.0</td>\n",
       "    </tr>\n",
       "    <tr>\n",
       "      <th>96</th>\n",
       "      <td>54.0</td>\n",
       "    </tr>\n",
       "    <tr>\n",
       "      <th>97</th>\n",
       "      <td>31.0</td>\n",
       "    </tr>\n",
       "    <tr>\n",
       "      <th>98</th>\n",
       "      <td>50.0</td>\n",
       "    </tr>\n",
       "    <tr>\n",
       "      <th>99</th>\n",
       "      <td>51.0</td>\n",
       "    </tr>\n",
       "  </tbody>\n",
       "</table>\n",
       "<p>100 rows × 1 columns</p>\n",
       "</div>"
      ],
      "text/plain": [
       "    RTLX.Score\n",
       "0         25.0\n",
       "1         38.0\n",
       "2         42.0\n",
       "3         39.0\n",
       "4         49.0\n",
       "..         ...\n",
       "95        51.0\n",
       "96        54.0\n",
       "97        31.0\n",
       "98        50.0\n",
       "99        51.0\n",
       "\n",
       "[100 rows x 1 columns]"
      ]
     },
     "execution_count": 22,
     "metadata": {},
     "output_type": "execute_result"
    }
   ],
   "source": [
    "df[[\"RTLX.Score\"]].astype(float)"
   ]
  },
  {
   "cell_type": "code",
   "execution_count": 43,
   "id": "6ea0f3d1",
   "metadata": {},
   "outputs": [],
   "source": [
    "negative_rows = df[df['SUS.Score'] < 0]"
   ]
  },
  {
   "cell_type": "code",
   "execution_count": 44,
   "id": "02b49ed6",
   "metadata": {},
   "outputs": [
    {
     "name": "stdout",
     "output_type": "stream",
     "text": [
      "Empty DataFrame\n",
      "Columns: [ID, SUS.Score, RTLX.Score]\n",
      "Index: []\n"
     ]
    }
   ],
   "source": [
    "print(negative_rows)\n",
    "#so row number 91 (ID = 92) has an impossible value"
   ]
  },
  {
   "cell_type": "code",
   "execution_count": 45,
   "id": "6409a7d8",
   "metadata": {},
   "outputs": [],
   "source": [
    "df = df.drop(negative_rows.index)"
   ]
  },
  {
   "cell_type": "code",
   "execution_count": 46,
   "id": "c8c8308b",
   "metadata": {},
   "outputs": [
    {
     "name": "stdout",
     "output_type": "stream",
     "text": [
      "91\n"
     ]
    }
   ],
   "source": [
    "#negative vlaue has now been removed"
   ]
  },
  {
   "cell_type": "code",
   "execution_count": 47,
   "id": "68d1c34f",
   "metadata": {},
   "outputs": [
    {
     "data": {
      "text/html": [
       "<div>\n",
       "<style scoped>\n",
       "    .dataframe tbody tr th:only-of-type {\n",
       "        vertical-align: middle;\n",
       "    }\n",
       "\n",
       "    .dataframe tbody tr th {\n",
       "        vertical-align: top;\n",
       "    }\n",
       "\n",
       "    .dataframe thead th {\n",
       "        text-align: right;\n",
       "    }\n",
       "</style>\n",
       "<table border=\"1\" class=\"dataframe\">\n",
       "  <thead>\n",
       "    <tr style=\"text-align: right;\">\n",
       "      <th></th>\n",
       "      <th>ID</th>\n",
       "      <th>SUS.Score</th>\n",
       "      <th>RTLX.Score</th>\n",
       "    </tr>\n",
       "  </thead>\n",
       "  <tbody>\n",
       "    <tr>\n",
       "      <th>count</th>\n",
       "      <td>99.000000</td>\n",
       "      <td>99.000000</td>\n",
       "      <td>99.000000</td>\n",
       "    </tr>\n",
       "    <tr>\n",
       "      <th>mean</th>\n",
       "      <td>50.080808</td>\n",
       "      <td>54.217172</td>\n",
       "      <td>42.717172</td>\n",
       "    </tr>\n",
       "    <tr>\n",
       "      <th>std</th>\n",
       "      <td>28.853139</td>\n",
       "      <td>23.769853</td>\n",
       "      <td>9.405861</td>\n",
       "    </tr>\n",
       "    <tr>\n",
       "      <th>min</th>\n",
       "      <td>1.000000</td>\n",
       "      <td>0.000000</td>\n",
       "      <td>20.000000</td>\n",
       "    </tr>\n",
       "    <tr>\n",
       "      <th>25%</th>\n",
       "      <td>25.500000</td>\n",
       "      <td>36.250000</td>\n",
       "      <td>37.500000</td>\n",
       "    </tr>\n",
       "    <tr>\n",
       "      <th>50%</th>\n",
       "      <td>50.000000</td>\n",
       "      <td>52.500000</td>\n",
       "      <td>43.000000</td>\n",
       "    </tr>\n",
       "    <tr>\n",
       "      <th>75%</th>\n",
       "      <td>74.500000</td>\n",
       "      <td>70.000000</td>\n",
       "      <td>50.000000</td>\n",
       "    </tr>\n",
       "    <tr>\n",
       "      <th>max</th>\n",
       "      <td>100.000000</td>\n",
       "      <td>105.000000</td>\n",
       "      <td>62.000000</td>\n",
       "    </tr>\n",
       "  </tbody>\n",
       "</table>\n",
       "</div>"
      ],
      "text/plain": [
       "               ID   SUS.Score  RTLX.Score\n",
       "count   99.000000   99.000000   99.000000\n",
       "mean    50.080808   54.217172   42.717172\n",
       "std     28.853139   23.769853    9.405861\n",
       "min      1.000000    0.000000   20.000000\n",
       "25%     25.500000   36.250000   37.500000\n",
       "50%     50.000000   52.500000   43.000000\n",
       "75%     74.500000   70.000000   50.000000\n",
       "max    100.000000  105.000000   62.000000"
      ]
     },
     "execution_count": 47,
     "metadata": {},
     "output_type": "execute_result"
    }
   ],
   "source": [
    "df.describe()"
   ]
  },
  {
   "cell_type": "code",
   "execution_count": 48,
   "id": "fa04f6ad",
   "metadata": {},
   "outputs": [],
   "source": [
    "#SUS also has a max score of 100, but there is a score of 105 present. This needs to be removed."
   ]
  },
  {
   "cell_type": "code",
   "execution_count": 49,
   "id": "8589e48f",
   "metadata": {},
   "outputs": [
    {
     "name": "stdout",
     "output_type": "stream",
     "text": [
      "    ID  SUS.Score  RTLX.Score\n",
      "87  88      105.0          55\n"
     ]
    }
   ],
   "source": [
    "invalid_rows = df[df['SUS.Score'] > 100]\n",
    "print(invalid_rows)"
   ]
  },
  {
   "cell_type": "code",
   "execution_count": 50,
   "id": "883f62a5",
   "metadata": {},
   "outputs": [],
   "source": [
    "#row 87 (id = 88) needs to be removed"
   ]
  },
  {
   "cell_type": "code",
   "execution_count": 51,
   "id": "a82149eb",
   "metadata": {},
   "outputs": [],
   "source": [
    "df = df.drop(invalid_rows.index)"
   ]
  },
  {
   "cell_type": "code",
   "execution_count": 53,
   "id": "e5473cac",
   "metadata": {},
   "outputs": [
    {
     "data": {
      "text/html": [
       "<div>\n",
       "<style scoped>\n",
       "    .dataframe tbody tr th:only-of-type {\n",
       "        vertical-align: middle;\n",
       "    }\n",
       "\n",
       "    .dataframe tbody tr th {\n",
       "        vertical-align: top;\n",
       "    }\n",
       "\n",
       "    .dataframe thead th {\n",
       "        text-align: right;\n",
       "    }\n",
       "</style>\n",
       "<table border=\"1\" class=\"dataframe\">\n",
       "  <thead>\n",
       "    <tr style=\"text-align: right;\">\n",
       "      <th></th>\n",
       "      <th>ID</th>\n",
       "      <th>SUS.Score</th>\n",
       "      <th>RTLX.Score</th>\n",
       "    </tr>\n",
       "  </thead>\n",
       "  <tbody>\n",
       "    <tr>\n",
       "      <th>count</th>\n",
       "      <td>98.000000</td>\n",
       "      <td>98.000000</td>\n",
       "      <td>98.000000</td>\n",
       "    </tr>\n",
       "    <tr>\n",
       "      <th>mean</th>\n",
       "      <td>49.693878</td>\n",
       "      <td>53.698980</td>\n",
       "      <td>42.591837</td>\n",
       "    </tr>\n",
       "    <tr>\n",
       "      <th>std</th>\n",
       "      <td>28.742156</td>\n",
       "      <td>23.323226</td>\n",
       "      <td>9.370756</td>\n",
       "    </tr>\n",
       "    <tr>\n",
       "      <th>min</th>\n",
       "      <td>1.000000</td>\n",
       "      <td>0.000000</td>\n",
       "      <td>20.000000</td>\n",
       "    </tr>\n",
       "    <tr>\n",
       "      <th>25%</th>\n",
       "      <td>25.250000</td>\n",
       "      <td>35.625000</td>\n",
       "      <td>37.250000</td>\n",
       "    </tr>\n",
       "    <tr>\n",
       "      <th>50%</th>\n",
       "      <td>49.500000</td>\n",
       "      <td>52.500000</td>\n",
       "      <td>42.500000</td>\n",
       "    </tr>\n",
       "    <tr>\n",
       "      <th>75%</th>\n",
       "      <td>73.750000</td>\n",
       "      <td>70.000000</td>\n",
       "      <td>50.000000</td>\n",
       "    </tr>\n",
       "    <tr>\n",
       "      <th>max</th>\n",
       "      <td>100.000000</td>\n",
       "      <td>100.000000</td>\n",
       "      <td>62.000000</td>\n",
       "    </tr>\n",
       "  </tbody>\n",
       "</table>\n",
       "</div>"
      ],
      "text/plain": [
       "               ID   SUS.Score  RTLX.Score\n",
       "count   98.000000   98.000000   98.000000\n",
       "mean    49.693878   53.698980   42.591837\n",
       "std     28.742156   23.323226    9.370756\n",
       "min      1.000000    0.000000   20.000000\n",
       "25%     25.250000   35.625000   37.250000\n",
       "50%     49.500000   52.500000   42.500000\n",
       "75%     73.750000   70.000000   50.000000\n",
       "max    100.000000  100.000000   62.000000"
      ]
     },
     "execution_count": 53,
     "metadata": {},
     "output_type": "execute_result"
    }
   ],
   "source": [
    "df.describe()"
   ]
  },
  {
   "cell_type": "code",
   "execution_count": 54,
   "id": "b18c9898",
   "metadata": {},
   "outputs": [],
   "source": [
    "#value has been removed\n",
    "#data has been cleaned, lets examine data with some graphs"
   ]
  },
  {
   "cell_type": "code",
   "execution_count": 57,
   "id": "54aee5a5",
   "metadata": {},
   "outputs": [
    {
     "data": {
      "text/plain": [
       "<AxesSubplot:xlabel='SUS.Score', ylabel='Count'>"
      ]
     },
     "execution_count": 57,
     "metadata": {},
     "output_type": "execute_result"
    },
    {
     "data": {
      "image/png": "[encoded data removed]",
      "text/plain": [
       "<Figure size 432x288 with 1 Axes>"
      ]
     },
     "metadata": {
      "needs_background": "light"
     },
     "output_type": "display_data"
    }
   ],
   "source": [
    "import seaborn as sns\n",
    "sns.histplot(df['SUS.Score'])\n"
   ]
  },
  {
   "cell_type": "code",
   "execution_count": 58,
   "id": "e76f7445",
   "metadata": {},
   "outputs": [
    {
     "data": {
      "text/plain": [
       "<AxesSubplot:xlabel='RTLX.Score', ylabel='Count'>"
      ]
     },
     "execution_count": 58,
     "metadata": {},
     "output_type": "execute_result"
    },
    {
     "data": {
      "image/png": "[encoded data removed]",
      "text/plain": [
       "<Figure size 432x288 with 1 Axes>"
      ]
     },
     "metadata": {
      "needs_background": "light"
     },
     "output_type": "display_data"
    }
   ],
   "source": [
    "sns.histplot(df['RTLX.Score'])"
   ]
  },
  {
   "cell_type": "code",
   "execution_count": 59,
   "id": "b2d9cd52",
   "metadata": {},
   "outputs": [],
   "source": [
    "#Both sets of data appear to be relartively normally distributed"
   ]
  },
  {
   "cell_type": "code",
   "execution_count": 60,
   "id": "5579f108",
   "metadata": {},
   "outputs": [],
   "source": [
    "#lets check some boxplots to check for outliers"
   ]
  },
  {
   "cell_type": "code",
   "execution_count": 62,
   "id": "cb617ff3",
   "metadata": {},
   "outputs": [
    {
     "name": "stderr",
     "output_type": "stream",
     "text": [
      "/opt/anaconda3/lib/python3.9/site-packages/seaborn/_decorators.py:36: FutureWarning: Pass the following variable as a keyword arg: x. From version 0.12, the only valid positional argument will be `data`, and passing other arguments without an explicit keyword will result in an error or misinterpretation.\n",
      "  warnings.warn(\n"
     ]
    },
    {
     "data": {
      "text/plain": [
       "<AxesSubplot:xlabel='SUS.Score'>"
      ]
     },
     "execution_count": 62,
     "metadata": {},
     "output_type": "execute_result"
    },
    {
     "data": {
      "image/png": "[encoded data removed]",
      "text/plain": [
       "<Figure size 432x288 with 1 Axes>"
      ]
     },
     "metadata": {
      "needs_background": "light"
     },
     "output_type": "display_data"
    }
   ],
   "source": [
    "sns.boxplot(df['SUS.Score'])"
   ]
  },
  {
   "cell_type": "code",
   "execution_count": 63,
   "id": "f707faab",
   "metadata": {},
   "outputs": [
    {
     "name": "stderr",
     "output_type": "stream",
     "text": [
      "/opt/anaconda3/lib/python3.9/site-packages/seaborn/_decorators.py:36: FutureWarning: Pass the following variable as a keyword arg: x. From version 0.12, the only valid positional argument will be `data`, and passing other arguments without an explicit keyword will result in an error or misinterpretation.\n",
      "  warnings.warn(\n"
     ]
    },
    {
     "data": {
      "text/plain": [
       "<AxesSubplot:xlabel='RTLX.Score'>"
      ]
     },
     "execution_count": 63,
     "metadata": {},
     "output_type": "execute_result"
    },
    {
     "data": {
      "image/png": "[encoded data removed]",
      "text/plain": [
       "<Figure size 432x288 with 1 Axes>"
      ]
     },
     "metadata": {
      "needs_background": "light"
     },
     "output_type": "display_data"
    }
   ],
   "source": [
    "sns.boxplot(df['RTLX.Score'])"
   ]
  },
  {
   "cell_type": "code",
   "execution_count": 64,
   "id": "11a0c424",
   "metadata": {},
   "outputs": [],
   "source": [
    "#visual inspection shows no outl;iers, but to be sure, lets check if any values lie outside of 3 SD's"
   ]
  },
  {
   "cell_type": "code",
   "execution_count": 65,
   "id": "5335857e",
   "metadata": {},
   "outputs": [],
   "source": [
    "SUSMean = df['SUS.Score'].mean()\n",
    "SUSStd = df['SUS.Score'].std()"
   ]
  },
  {
   "cell_type": "code",
   "execution_count": 68,
   "id": "567d0150",
   "metadata": {},
   "outputs": [],
   "source": [
    "SUSOutliers = df[(df['SUS.Score'] < SUSMean - 3*SUSStd) | (df['SUS.Score'] > SUSMean + 3*SUSStd)]\n",
    "\n"
   ]
  },
  {
   "cell_type": "code",
   "execution_count": 69,
   "id": "6962b982",
   "metadata": {},
   "outputs": [
    {
     "name": "stdout",
     "output_type": "stream",
     "text": [
      "Empty DataFrame\n",
      "Columns: [ID, SUS.Score, RTLX.Score]\n",
      "Index: []\n"
     ]
    }
   ],
   "source": [
    "print(SUSOutliers)"
   ]
  },
  {
   "cell_type": "code",
   "execution_count": 70,
   "id": "bc116b5b",
   "metadata": {},
   "outputs": [],
   "source": [
    "# no outliers present for SUS.Score. Now lets check RTLX.Score"
   ]
  },
  {
   "cell_type": "code",
   "execution_count": 71,
   "id": "31bb388d",
   "metadata": {},
   "outputs": [],
   "source": [
    "RTLXMean = df['RTLX.Score'].mean()\n",
    "RTLXStd = df['RTLX.Score'].std()\n",
    "\n",
    "RTLXOutliers = df[(df['RTLX.Score'] < RTLXMean - 3*RTLXStd) | (df['RTLX.Score'] > RTLXMean + 3*RTLXStd)]\n",
    "\n"
   ]
  },
  {
   "cell_type": "code",
   "execution_count": 72,
   "id": "f297e48b",
   "metadata": {},
   "outputs": [
    {
     "name": "stdout",
     "output_type": "stream",
     "text": [
      "Empty DataFrame\n",
      "Columns: [ID, SUS.Score, RTLX.Score]\n",
      "Index: []\n"
     ]
    }
   ],
   "source": [
    "print(RTLXOutliers)"
   ]
  },
  {
   "cell_type": "code",
   "execution_count": 73,
   "id": "a1138402",
   "metadata": {},
   "outputs": [],
   "source": [
    "# no outliers for RTLX either."
   ]
  },
  {
   "cell_type": "code",
   "execution_count": 74,
   "id": "e3e28f45",
   "metadata": {},
   "outputs": [],
   "source": [
    "#the task is to analyse if there is a relationship between these two scores. A pearson's correlation is \n",
    "#likely the best way to analyse this.\n",
    "#lets take a look at a scatterplot"
   ]
  },
  {
   "cell_type": "code",
   "execution_count": 77,
   "id": "fa02e94e",
   "metadata": {},
   "outputs": [
    {
     "data": {
      "text/plain": [
       "<AxesSubplot:xlabel='SUS.Score', ylabel='RTLX.Score'>"
      ]
     },
     "execution_count": 77,
     "metadata": {},
     "output_type": "execute_result"
    },
    {
     "data": {
      "image/png": "[encoded data removed]",
      "text/plain": [
       "<Figure size 432x288 with 1 Axes>"
      ]
     },
     "metadata": {
      "needs_background": "light"
     },
     "output_type": "display_data"
    }
   ],
   "source": [
    "sns.scatterplot(x='SUS.Score', y='RTLX.Score', data=df, marker = 'o', s=60, color = 'red')"
   ]
  },
  {
   "cell_type": "code",
   "execution_count": 78,
   "id": "116ab97e",
   "metadata": {},
   "outputs": [],
   "source": [
    "#it appears that there is a strong positive correlation between the two variables. \n",
    "#in order to ensure a Pearson's can be run, we need to use a Shapiro Wilk test"
   ]
  },
  {
   "cell_type": "code",
   "execution_count": 79,
   "id": "d0c9c713",
   "metadata": {},
   "outputs": [],
   "source": [
    "from scipy.stats import shapiro\n",
    "\n",
    "sus_score_stat, sus_score_p = shapiro(df['SUS.Score'])\n",
    "rtlx_score_stat, rtlx_score_p = shapiro(df['RTLX.Score'])\n"
   ]
  },
  {
   "cell_type": "code",
   "execution_count": 80,
   "id": "a046a132",
   "metadata": {},
   "outputs": [
    {
     "name": "stdout",
     "output_type": "stream",
     "text": [
      "SUS.Score Shapiro-Wilk statistic: 0.9864733219146729\n",
      "SUS.Score Shapiro-Wilk p-value: 0.41781580448150635\n",
      "RTLX.Score Shapiro-Wilk statistic: 0.9804196953773499\n",
      "RTLX.Score Shapiro-Wilk p-value: 0.15219536423683167\n"
     ]
    }
   ],
   "source": [
    "print(\"SUS.Score Shapiro-Wilk statistic:\", sus_score_stat)\n",
    "print(\"SUS.Score Shapiro-Wilk p-value:\", sus_score_p)\n",
    "print(\"RTLX.Score Shapiro-Wilk statistic:\", rtlx_score_stat)\n",
    "print(\"RTLX.Score Shapiro-Wilk p-value:\", rtlx_score_p)\n"
   ]
  },
  {
   "cell_type": "code",
   "execution_count": 81,
   "id": "5cd2e235",
   "metadata": {},
   "outputs": [],
   "source": [
    "#As we can see, the P-value is far greater than 0.05 for both variables, which means that the distribution is normal"
   ]
  },
  {
   "cell_type": "code",
   "execution_count": 82,
   "id": "485595f9",
   "metadata": {},
   "outputs": [],
   "source": [
    "#now lets run out Pearson's correlation "
   ]
  },
  {
   "cell_type": "code",
   "execution_count": 83,
   "id": "672a3e16",
   "metadata": {},
   "outputs": [],
   "source": [
    "from scipy.stats import pearsonr\n",
    "\n",
    "corr, p = pearsonr(df['SUS.Score'], df['RTLX.Score'])\n"
   ]
  },
  {
   "cell_type": "code",
   "execution_count": 84,
   "id": "e8ab095a",
   "metadata": {},
   "outputs": [
    {
     "name": "stdout",
     "output_type": "stream",
     "text": [
      "Pearson's correlation coefficient: 0.6809192561629134\n",
      "p-value: 1.2163791897045553e-14\n"
     ]
    }
   ],
   "source": [
    "print(\"Pearson's correlation coefficient:\", corr)\n",
    "print(\"p-value:\", p)\n"
   ]
  },
  {
   "cell_type": "code",
   "execution_count": 85,
   "id": "341f3837",
   "metadata": {},
   "outputs": [],
   "source": [
    "#r(96) = 0.68, p < 0.001"
   ]
  },
  {
   "cell_type": "code",
   "execution_count": null,
   "id": "019173ed",
   "metadata": {},
   "outputs": [],
   "source": [
    "#There is a moderately strong positive correlation between the two scores. The results are significant to the \n",
    "# level of p < 0.001"
   ]
  }
 ],
 "metadata": {
  "kernelspec": {
   "display_name": "Python 3 (ipykernel)",
   "language": "python",
   "name": "python3"
  },
  "language_info": {
   "codemirror_mode": {
    "name": "ipython",
    "version": 3
   },
   "file_extension": ".py",
   "mimetype": "text/x-python",
   "name": "python",
   "nbconvert_exporter": "python",
   "pygments_lexer": "ipython3",
   "version": "3.9.7"
  }
 },
 "nbformat": 4,
 "nbformat_minor": 5
}
