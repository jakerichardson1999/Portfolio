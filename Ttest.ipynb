{
 "cells": [
  {
   "cell_type": "code",
   "execution_count": 3,
   "id": "71492b08",
   "metadata": {},
   "outputs": [],
   "source": [
    "import pandas as pd"
   ]
  },
  {
   "cell_type": "code",
   "execution_count": 6,
   "id": "ca643563",
   "metadata": {},
   "outputs": [],
   "source": [
    "df = pd.read_csv('tetris2.csv')"
   ]
  },
  {
   "cell_type": "code",
   "execution_count": 12,
   "id": "3c4cc084",
   "metadata": {},
   "outputs": [
    {
     "data": {
      "text/html": [
       "<div>\n",
       "<style scoped>\n",
       "    .dataframe tbody tr th:only-of-type {\n",
       "        vertical-align: middle;\n",
       "    }\n",
       "\n",
       "    .dataframe tbody tr th {\n",
       "        vertical-align: top;\n",
       "    }\n",
       "\n",
       "    .dataframe thead th {\n",
       "        text-align: right;\n",
       "    }\n",
       "</style>\n",
       "<table border=\"1\" class=\"dataframe\">\n",
       "  <thead>\n",
       "    <tr style=\"text-align: right;\">\n",
       "      <th></th>\n",
       "      <th>ID</th>\n",
       "      <th>condition</th>\n",
       "      <th>score</th>\n",
       "    </tr>\n",
       "  </thead>\n",
       "  <tbody>\n",
       "    <tr>\n",
       "      <th>0</th>\n",
       "      <td>1</td>\n",
       "      <td>auditory</td>\n",
       "      <td>76</td>\n",
       "    </tr>\n",
       "    <tr>\n",
       "      <th>1</th>\n",
       "      <td>2</td>\n",
       "      <td>auditory</td>\n",
       "      <td>68</td>\n",
       "    </tr>\n",
       "    <tr>\n",
       "      <th>2</th>\n",
       "      <td>3</td>\n",
       "      <td>auditory</td>\n",
       "      <td>45</td>\n",
       "    </tr>\n",
       "    <tr>\n",
       "      <th>3</th>\n",
       "      <td>4</td>\n",
       "      <td>auditory</td>\n",
       "      <td>44</td>\n",
       "    </tr>\n",
       "    <tr>\n",
       "      <th>4</th>\n",
       "      <td>5</td>\n",
       "      <td>auditory</td>\n",
       "      <td>69</td>\n",
       "    </tr>\n",
       "  </tbody>\n",
       "</table>\n",
       "</div>"
      ],
      "text/plain": [
       "   ID condition  score\n",
       "0   1  auditory     76\n",
       "1   2  auditory     68\n",
       "2   3  auditory     45\n",
       "3   4  auditory     44\n",
       "4   5  auditory     69"
      ]
     },
     "execution_count": 12,
     "metadata": {},
     "output_type": "execute_result"
    }
   ],
   "source": [
    "df.head()\n"
   ]
  },
  {
   "cell_type": "code",
   "execution_count": 13,
   "id": "fbecec1f",
   "metadata": {},
   "outputs": [
    {
     "name": "stdout",
     "output_type": "stream",
     "text": [
      "ID            int64\n",
      "condition    object\n",
      "score         int64\n",
      "dtype: object\n"
     ]
    }
   ],
   "source": [
    "print(df.dtypes)"
   ]
  },
  {
   "cell_type": "code",
   "execution_count": 14,
   "id": "4533715e",
   "metadata": {},
   "outputs": [
    {
     "data": {
      "text/html": [
       "<div>\n",
       "<style scoped>\n",
       "    .dataframe tbody tr th:only-of-type {\n",
       "        vertical-align: middle;\n",
       "    }\n",
       "\n",
       "    .dataframe tbody tr th {\n",
       "        vertical-align: top;\n",
       "    }\n",
       "\n",
       "    .dataframe thead th {\n",
       "        text-align: right;\n",
       "    }\n",
       "</style>\n",
       "<table border=\"1\" class=\"dataframe\">\n",
       "  <thead>\n",
       "    <tr style=\"text-align: right;\">\n",
       "      <th></th>\n",
       "      <th>ID</th>\n",
       "      <th>condition</th>\n",
       "      <th>score</th>\n",
       "    </tr>\n",
       "  </thead>\n",
       "  <tbody>\n",
       "    <tr>\n",
       "      <th>59</th>\n",
       "      <td>60</td>\n",
       "      <td>visual</td>\n",
       "      <td>33</td>\n",
       "    </tr>\n",
       "    <tr>\n",
       "      <th>60</th>\n",
       "      <td>61</td>\n",
       "      <td>visual</td>\n",
       "      <td>55</td>\n",
       "    </tr>\n",
       "    <tr>\n",
       "      <th>61</th>\n",
       "      <td>62</td>\n",
       "      <td>visual</td>\n",
       "      <td>38</td>\n",
       "    </tr>\n",
       "    <tr>\n",
       "      <th>62</th>\n",
       "      <td>63</td>\n",
       "      <td>visual</td>\n",
       "      <td>52</td>\n",
       "    </tr>\n",
       "    <tr>\n",
       "      <th>63</th>\n",
       "      <td>64</td>\n",
       "      <td>visual</td>\n",
       "      <td>31</td>\n",
       "    </tr>\n",
       "  </tbody>\n",
       "</table>\n",
       "</div>"
      ],
      "text/plain": [
       "    ID condition  score\n",
       "59  60    visual     33\n",
       "60  61    visual     55\n",
       "61  62    visual     38\n",
       "62  63    visual     52\n",
       "63  64    visual     31"
      ]
     },
     "execution_count": 14,
     "metadata": {},
     "output_type": "execute_result"
    }
   ],
   "source": [
    "df.tail()"
   ]
  },
  {
   "cell_type": "code",
   "execution_count": 15,
   "id": "f8b961a3",
   "metadata": {},
   "outputs": [],
   "source": [
    "#making two seperate dataframes\n",
    "df_auditory = df.loc[df['condition'] == 'auditory']\n",
    "df_visual = df.loc[df['condition'] == 'visual']"
   ]
  },
  {
   "cell_type": "code",
   "execution_count": 18,
   "id": "6717333f",
   "metadata": {},
   "outputs": [
    {
     "data": {
      "text/html": [
       "<div>\n",
       "<style scoped>\n",
       "    .dataframe tbody tr th:only-of-type {\n",
       "        vertical-align: middle;\n",
       "    }\n",
       "\n",
       "    .dataframe tbody tr th {\n",
       "        vertical-align: top;\n",
       "    }\n",
       "\n",
       "    .dataframe thead th {\n",
       "        text-align: right;\n",
       "    }\n",
       "</style>\n",
       "<table border=\"1\" class=\"dataframe\">\n",
       "  <thead>\n",
       "    <tr style=\"text-align: right;\">\n",
       "      <th></th>\n",
       "      <th>ID</th>\n",
       "      <th>score</th>\n",
       "    </tr>\n",
       "  </thead>\n",
       "  <tbody>\n",
       "    <tr>\n",
       "      <th>count</th>\n",
       "      <td>32.000000</td>\n",
       "      <td>32.000000</td>\n",
       "    </tr>\n",
       "    <tr>\n",
       "      <th>mean</th>\n",
       "      <td>24.500000</td>\n",
       "      <td>67.937500</td>\n",
       "    </tr>\n",
       "    <tr>\n",
       "      <th>std</th>\n",
       "      <td>16.917256</td>\n",
       "      <td>11.053937</td>\n",
       "    </tr>\n",
       "    <tr>\n",
       "      <th>min</th>\n",
       "      <td>1.000000</td>\n",
       "      <td>44.000000</td>\n",
       "    </tr>\n",
       "    <tr>\n",
       "      <th>25%</th>\n",
       "      <td>8.750000</td>\n",
       "      <td>60.000000</td>\n",
       "    </tr>\n",
       "    <tr>\n",
       "      <th>50%</th>\n",
       "      <td>24.500000</td>\n",
       "      <td>69.000000</td>\n",
       "    </tr>\n",
       "    <tr>\n",
       "      <th>75%</th>\n",
       "      <td>40.250000</td>\n",
       "      <td>76.000000</td>\n",
       "    </tr>\n",
       "    <tr>\n",
       "      <th>max</th>\n",
       "      <td>48.000000</td>\n",
       "      <td>87.000000</td>\n",
       "    </tr>\n",
       "  </tbody>\n",
       "</table>\n",
       "</div>"
      ],
      "text/plain": [
       "              ID      score\n",
       "count  32.000000  32.000000\n",
       "mean   24.500000  67.937500\n",
       "std    16.917256  11.053937\n",
       "min     1.000000  44.000000\n",
       "25%     8.750000  60.000000\n",
       "50%    24.500000  69.000000\n",
       "75%    40.250000  76.000000\n",
       "max    48.000000  87.000000"
      ]
     },
     "execution_count": 18,
     "metadata": {},
     "output_type": "execute_result"
    }
   ],
   "source": [
    "df_auditory.describe()"
   ]
  },
  {
   "cell_type": "code",
   "execution_count": 19,
   "id": "d2065168",
   "metadata": {},
   "outputs": [
    {
     "data": {
      "text/html": [
       "<div>\n",
       "<style scoped>\n",
       "    .dataframe tbody tr th:only-of-type {\n",
       "        vertical-align: middle;\n",
       "    }\n",
       "\n",
       "    .dataframe tbody tr th {\n",
       "        vertical-align: top;\n",
       "    }\n",
       "\n",
       "    .dataframe thead th {\n",
       "        text-align: right;\n",
       "    }\n",
       "</style>\n",
       "<table border=\"1\" class=\"dataframe\">\n",
       "  <thead>\n",
       "    <tr style=\"text-align: right;\">\n",
       "      <th></th>\n",
       "      <th>ID</th>\n",
       "      <th>score</th>\n",
       "    </tr>\n",
       "  </thead>\n",
       "  <tbody>\n",
       "    <tr>\n",
       "      <th>count</th>\n",
       "      <td>32.000000</td>\n",
       "      <td>32.000000</td>\n",
       "    </tr>\n",
       "    <tr>\n",
       "      <th>mean</th>\n",
       "      <td>40.500000</td>\n",
       "      <td>46.625000</td>\n",
       "    </tr>\n",
       "    <tr>\n",
       "      <th>std</th>\n",
       "      <td>16.917256</td>\n",
       "      <td>11.801449</td>\n",
       "    </tr>\n",
       "    <tr>\n",
       "      <th>min</th>\n",
       "      <td>17.000000</td>\n",
       "      <td>29.000000</td>\n",
       "    </tr>\n",
       "    <tr>\n",
       "      <th>25%</th>\n",
       "      <td>24.750000</td>\n",
       "      <td>37.750000</td>\n",
       "    </tr>\n",
       "    <tr>\n",
       "      <th>50%</th>\n",
       "      <td>40.500000</td>\n",
       "      <td>46.000000</td>\n",
       "    </tr>\n",
       "    <tr>\n",
       "      <th>75%</th>\n",
       "      <td>56.250000</td>\n",
       "      <td>52.500000</td>\n",
       "    </tr>\n",
       "    <tr>\n",
       "      <th>max</th>\n",
       "      <td>64.000000</td>\n",
       "      <td>74.000000</td>\n",
       "    </tr>\n",
       "  </tbody>\n",
       "</table>\n",
       "</div>"
      ],
      "text/plain": [
       "              ID      score\n",
       "count  32.000000  32.000000\n",
       "mean   40.500000  46.625000\n",
       "std    16.917256  11.801449\n",
       "min    17.000000  29.000000\n",
       "25%    24.750000  37.750000\n",
       "50%    40.500000  46.000000\n",
       "75%    56.250000  52.500000\n",
       "max    64.000000  74.000000"
      ]
     },
     "execution_count": 19,
     "metadata": {},
     "output_type": "execute_result"
    }
   ],
   "source": [
    "df_visual.describe()"
   ]
  },
  {
   "cell_type": "code",
   "execution_count": 20,
   "id": "28c4358b",
   "metadata": {},
   "outputs": [
    {
     "data": {
      "text/html": [
       "<div>\n",
       "<style scoped>\n",
       "    .dataframe tbody tr th:only-of-type {\n",
       "        vertical-align: middle;\n",
       "    }\n",
       "\n",
       "    .dataframe tbody tr th {\n",
       "        vertical-align: top;\n",
       "    }\n",
       "\n",
       "    .dataframe thead th {\n",
       "        text-align: right;\n",
       "    }\n",
       "</style>\n",
       "<table border=\"1\" class=\"dataframe\">\n",
       "  <thead>\n",
       "    <tr style=\"text-align: right;\">\n",
       "      <th></th>\n",
       "      <th>ID</th>\n",
       "      <th>score</th>\n",
       "    </tr>\n",
       "  </thead>\n",
       "  <tbody>\n",
       "    <tr>\n",
       "      <th>count</th>\n",
       "      <td>64.000000</td>\n",
       "      <td>64.000000</td>\n",
       "    </tr>\n",
       "    <tr>\n",
       "      <th>mean</th>\n",
       "      <td>32.500000</td>\n",
       "      <td>57.281250</td>\n",
       "    </tr>\n",
       "    <tr>\n",
       "      <th>std</th>\n",
       "      <td>18.618987</td>\n",
       "      <td>15.620976</td>\n",
       "    </tr>\n",
       "    <tr>\n",
       "      <th>min</th>\n",
       "      <td>1.000000</td>\n",
       "      <td>29.000000</td>\n",
       "    </tr>\n",
       "    <tr>\n",
       "      <th>25%</th>\n",
       "      <td>16.750000</td>\n",
       "      <td>44.750000</td>\n",
       "    </tr>\n",
       "    <tr>\n",
       "      <th>50%</th>\n",
       "      <td>32.500000</td>\n",
       "      <td>57.000000</td>\n",
       "    </tr>\n",
       "    <tr>\n",
       "      <th>75%</th>\n",
       "      <td>48.250000</td>\n",
       "      <td>69.500000</td>\n",
       "    </tr>\n",
       "    <tr>\n",
       "      <th>max</th>\n",
       "      <td>64.000000</td>\n",
       "      <td>87.000000</td>\n",
       "    </tr>\n",
       "  </tbody>\n",
       "</table>\n",
       "</div>"
      ],
      "text/plain": [
       "              ID      score\n",
       "count  64.000000  64.000000\n",
       "mean   32.500000  57.281250\n",
       "std    18.618987  15.620976\n",
       "min     1.000000  29.000000\n",
       "25%    16.750000  44.750000\n",
       "50%    32.500000  57.000000\n",
       "75%    48.250000  69.500000\n",
       "max    64.000000  87.000000"
      ]
     },
     "execution_count": 20,
     "metadata": {},
     "output_type": "execute_result"
    }
   ],
   "source": [
    "df.describe()"
   ]
  },
  {
   "cell_type": "code",
   "execution_count": 21,
   "id": "a5abeebc",
   "metadata": {},
   "outputs": [],
   "source": [
    "#the dataframe has now been split into two seperate dataframes, one containing all the 'visual' participants and \n",
    "#one containing all the 'auditory' participants "
   ]
  },
  {
   "cell_type": "code",
   "execution_count": 22,
   "id": "4d29540f",
   "metadata": {},
   "outputs": [],
   "source": [
    "#checking for outliers that lie outside the range of plus or minus 3 standard deviations"
   ]
  },
  {
   "cell_type": "code",
   "execution_count": 36,
   "id": "b676c2fa",
   "metadata": {},
   "outputs": [],
   "source": [
    "meanA = df_auditory['score'].mean()\n",
    "stdA = df_auditory['score'].std()\n",
    "Aoutliers = df[(df_auditory['score'] < meanA - 3*stdA) | (df['score'] > meanA + 3*stdA)]"
   ]
  },
  {
   "cell_type": "code",
   "execution_count": 33,
   "id": "580e94c8",
   "metadata": {},
   "outputs": [
    {
     "name": "stdout",
     "output_type": "stream",
     "text": [
      "Empty DataFrame\n",
      "Columns: [ID, condition, score]\n",
      "Index: []\n"
     ]
    }
   ],
   "source": [
    "print(Aoutliers)"
   ]
  },
  {
   "cell_type": "code",
   "execution_count": 34,
   "id": "c81f6960",
   "metadata": {},
   "outputs": [],
   "source": [
    "#no outliers for auditory score"
   ]
  },
  {
   "cell_type": "code",
   "execution_count": 37,
   "id": "dcbe9ab7",
   "metadata": {},
   "outputs": [],
   "source": [
    "meanV = df_visual['score'].mean()\n",
    "stdV = df_visual['score'].std()\n",
    "Voutliers = df[(df_visual['score'] < meanV - 3*stdV) | (df['score'] > meanV + 3*stdV)]"
   ]
  },
  {
   "cell_type": "code",
   "execution_count": 38,
   "id": "92ebc690",
   "metadata": {},
   "outputs": [
    {
     "name": "stdout",
     "output_type": "stream",
     "text": [
      "Empty DataFrame\n",
      "Columns: [ID, condition, score]\n",
      "Index: []\n"
     ]
    }
   ],
   "source": [
    "print(Voutliers)"
   ]
  },
  {
   "cell_type": "code",
   "execution_count": 39,
   "id": "9edb766d",
   "metadata": {},
   "outputs": [],
   "source": [
    "#no outliers found\n",
    "#making some boxplots"
   ]
  },
  {
   "cell_type": "code",
   "execution_count": 40,
   "id": "b2fe4ca0",
   "metadata": {},
   "outputs": [],
   "source": [
    "import seaborn as sns"
   ]
  },
  {
   "cell_type": "code",
   "execution_count": 41,
   "id": "a0d80ead",
   "metadata": {},
   "outputs": [
    {
     "name": "stderr",
     "output_type": "stream",
     "text": [
      "/opt/anaconda3/lib/python3.9/site-packages/seaborn/_decorators.py:36: FutureWarning: Pass the following variable as a keyword arg: x. From version 0.12, the only valid positional argument will be `data`, and passing other arguments without an explicit keyword will result in an error or misinterpretation.\n",
      "  warnings.warn(\n"
     ]
    },
    {
     "data": {
      "text/plain": [
       "<AxesSubplot:xlabel='score'>"
      ]
     },
     "execution_count": 41,
     "metadata": {},
     "output_type": "execute_result"
    },
    {
     "data": {
      "image/png": "[encoded data removed]",
      "text/plain": [
       "<Figure size 432x288 with 1 Axes>"
      ]
     },
     "metadata": {
      "needs_background": "light"
     },
     "output_type": "display_data"
    }
   ],
   "source": [
    "sns.boxplot(df_visual['score'])"
   ]
  },
  {
   "cell_type": "code",
   "execution_count": 42,
   "id": "595b6c44",
   "metadata": {},
   "outputs": [
    {
     "name": "stderr",
     "output_type": "stream",
     "text": [
      "/opt/anaconda3/lib/python3.9/site-packages/seaborn/_decorators.py:36: FutureWarning: Pass the following variable as a keyword arg: x. From version 0.12, the only valid positional argument will be `data`, and passing other arguments without an explicit keyword will result in an error or misinterpretation.\n",
      "  warnings.warn(\n"
     ]
    },
    {
     "data": {
      "text/plain": [
       "<AxesSubplot:xlabel='score'>"
      ]
     },
     "execution_count": 42,
     "metadata": {},
     "output_type": "execute_result"
    },
    {
     "data": {
      "image/png": "[encoded data removed]",
      "text/plain": [
       "<Figure size 432x288 with 1 Axes>"
      ]
     },
     "metadata": {
      "needs_background": "light"
     },
     "output_type": "display_data"
    }
   ],
   "source": [
    "sns.boxplot(df_auditory['score'])"
   ]
  },
  {
   "cell_type": "code",
   "execution_count": 43,
   "id": "3cb2b2a9",
   "metadata": {},
   "outputs": [],
   "source": [
    "#boxplots look good and without any outliers"
   ]
  },
  {
   "cell_type": "code",
   "execution_count": 44,
   "id": "04d73579",
   "metadata": {},
   "outputs": [],
   "source": [
    "#checking histograms"
   ]
  },
  {
   "cell_type": "code",
   "execution_count": 50,
   "id": "a8d89bc2",
   "metadata": {},
   "outputs": [
    {
     "data": {
      "text/plain": [
       "<AxesSubplot:xlabel='score', ylabel='Count'>"
      ]
     },
     "execution_count": 50,
     "metadata": {},
     "output_type": "execute_result"
    },
    {
     "data": {
      "image/png": "[encoded data removed]",
      "text/plain": [
       "<Figure size 432x288 with 1 Axes>"
      ]
     },
     "metadata": {
      "needs_background": "light"
     },
     "output_type": "display_data"
    }
   ],
   "source": [
    "sns.histplot(df_visual['score'], bins = 10)"
   ]
  },
  {
   "cell_type": "code",
   "execution_count": 49,
   "id": "50ee985e",
   "metadata": {},
   "outputs": [
    {
     "data": {
      "text/plain": [
       "<AxesSubplot:xlabel='score', ylabel='Count'>"
      ]
     },
     "execution_count": 49,
     "metadata": {},
     "output_type": "execute_result"
    },
    {
     "data": {
      "image/png": "[encoded data removed]",
      "text/plain": [
       "<Figure size 432x288 with 1 Axes>"
      ]
     },
     "metadata": {
      "needs_background": "light"
     },
     "output_type": "display_data"
    }
   ],
   "source": [
    "sns.histplot(df_auditory['score'], bins = 10)"
   ]
  },
  {
   "cell_type": "code",
   "execution_count": 51,
   "id": "877206b3",
   "metadata": {},
   "outputs": [],
   "source": [
    "#both look relatively normally distributed, but means appear different. Now to carry out a T-test\n",
    "# need to test for normal distribution and homogenietty of variance"
   ]
  },
  {
   "cell_type": "code",
   "execution_count": 52,
   "id": "2ef876e0",
   "metadata": {},
   "outputs": [],
   "source": [
    "# shapiro wilks test to test for normaa dist"
   ]
  },
  {
   "cell_type": "code",
   "execution_count": 57,
   "id": "02134ac8",
   "metadata": {},
   "outputs": [],
   "source": [
    "from scipy.stats import shapiro\n",
    "\n",
    "visual_score_p = shapiro(df_visual['score'])\n",
    "auditory_score_p = shapiro(df_auditory['score'])"
   ]
  },
  {
   "cell_type": "code",
   "execution_count": 58,
   "id": "9b611f48",
   "metadata": {},
   "outputs": [
    {
     "name": "stdout",
     "output_type": "stream",
     "text": [
      "ShapiroResult(statistic=0.963798999786377, pvalue=0.34769004583358765)\n"
     ]
    }
   ],
   "source": [
    "print(visual_score_p)"
   ]
  },
  {
   "cell_type": "code",
   "execution_count": 59,
   "id": "f8efbba0",
   "metadata": {},
   "outputs": [],
   "source": [
    "# p-value of 0.348 > 0.05 - NORMALLY DISTRIBUTED"
   ]
  },
  {
   "cell_type": "code",
   "execution_count": 60,
   "id": "d9ad7a22",
   "metadata": {},
   "outputs": [
    {
     "name": "stdout",
     "output_type": "stream",
     "text": [
      "ShapiroResult(statistic=0.9521842002868652, pvalue=0.16621069610118866)\n"
     ]
    }
   ],
   "source": [
    "print(auditory_score_p)"
   ]
  },
  {
   "cell_type": "code",
   "execution_count": 61,
   "id": "14a39603",
   "metadata": {},
   "outputs": [],
   "source": [
    "# p-value of 0.166 > 0.05 - NORMALLY DISTRIBUTED"
   ]
  },
  {
   "cell_type": "code",
   "execution_count": 62,
   "id": "9dede1d8",
   "metadata": {},
   "outputs": [],
   "source": [
    "#levens test t ocheck for homogeniety of variance "
   ]
  },
  {
   "cell_type": "code",
   "execution_count": 63,
   "id": "80b8c7c6",
   "metadata": {},
   "outputs": [],
   "source": [
    "from scipy.stats import levene\n",
    "\n",
    "auditory_scores = df_auditory['score']\n",
    "visual_scores = df_visual['score']\n",
    "\n",
    "levene_test_result = levene(auditory_scores, visual_scores)"
   ]
  },
  {
   "cell_type": "code",
   "execution_count": 64,
   "id": "e8aa335d",
   "metadata": {},
   "outputs": [
    {
     "name": "stdout",
     "output_type": "stream",
     "text": [
      "LeveneResult(statistic=0.37480650964314105, pvalue=0.5426347247026557)\n"
     ]
    }
   ],
   "source": [
    "print(levene_test_result)"
   ]
  },
  {
   "cell_type": "code",
   "execution_count": 65,
   "id": "6c9e5c03",
   "metadata": {},
   "outputs": [],
   "source": [
    "# p -value = 0.543 > 0.05 - ACCEPT EQUAL VARIANCE"
   ]
  },
  {
   "cell_type": "code",
   "execution_count": 67,
   "id": "f5f9c494",
   "metadata": {},
   "outputs": [],
   "source": [
    "# can now run our INDEPENDENT T-TEST\n",
    "\n",
    "from scipy.stats import ttest_ind\n",
    "\n",
    "auditory_scores = df_auditory['score']\n",
    "visual_scores = df_visual['score']\n",
    "\n",
    "t_test_result = ttest_ind(auditory_scores, visual_scores)"
   ]
  },
  {
   "cell_type": "code",
   "execution_count": 68,
   "id": "900c36a2",
   "metadata": {},
   "outputs": [
    {
     "name": "stdout",
     "output_type": "stream",
     "text": [
      "Ttest_indResult(statistic=7.455961831977524, pvalue=3.482631464537382e-10)\n"
     ]
    }
   ],
   "source": [
    "print(t_test_result)"
   ]
  },
  {
   "cell_type": "code",
   "execution_count": 69,
   "id": "33fe6358",
   "metadata": {},
   "outputs": [
    {
     "name": "stdout",
     "output_type": "stream",
     "text": [
      "67.9375\n"
     ]
    }
   ],
   "source": [
    "print(meanA)"
   ]
  },
  {
   "cell_type": "code",
   "execution_count": 70,
   "id": "8a0c69f1",
   "metadata": {},
   "outputs": [
    {
     "name": "stdout",
     "output_type": "stream",
     "text": [
      "46.625\n"
     ]
    }
   ],
   "source": [
    "print(meanV)"
   ]
  },
  {
   "cell_type": "code",
   "execution_count": 71,
   "id": "ad6e2d02",
   "metadata": {},
   "outputs": [],
   "source": [
    "# the mean of auditory score is 67.9. The mean of visual is 46.6. There is a statistically significant difference\n",
    "# between the means to the level of p <0.001"
   ]
  },
  {
   "cell_type": "code",
   "execution_count": 72,
   "id": "4ae080bc",
   "metadata": {},
   "outputs": [
    {
     "data": {
      "text/plain": [
       "<AxesSubplot:xlabel='condition', ylabel='score'>"
      ]
     },
     "execution_count": 72,
     "metadata": {},
     "output_type": "execute_result"
    },
    {
     "data": {
      "image/png": "[encoded data removed]",
      "text/plain": [
       "<Figure size 432x288 with 1 Axes>"
      ]
     },
     "metadata": {
      "needs_background": "light"
     },
     "output_type": "display_data"
    }
   ],
   "source": [
    "sns.barplot(x = 'condition', y = 'score', data = df, ci = \"sd\")"
   ]
  },
  {
   "cell_type": "code",
   "execution_count": null,
   "id": "e0d42f9c",
   "metadata": {},
   "outputs": [],
   "source": [
    "#reasults visualised with barplot including errorbars. "
   ]
  }
 ],
 "metadata": {
  "kernelspec": {
   "display_name": "Python 3 (ipykernel)",
   "language": "python",
   "name": "python3"
  },
  "language_info": {
   "codemirror_mode": {
    "name": "ipython",
    "version": 3
   },
   "file_extension": ".py",
   "mimetype": "text/x-python",
   "name": "python",
   "nbconvert_exporter": "python",
   "pygments_lexer": "ipython3",
   "version": "3.9.7"
  }
 },
 "nbformat": 4,
 "nbformat_minor": 5
}
