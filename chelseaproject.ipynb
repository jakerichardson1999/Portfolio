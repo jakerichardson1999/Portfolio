{
 "cells": [
  {
   "cell_type": "code",
   "execution_count": 4,
   "id": "686fd092",
   "metadata": {},
   "outputs": [],
   "source": [
    "import pandas as pd"
   ]
  },
  {
   "cell_type": "code",
   "execution_count": 5,
   "id": "2dc26920",
   "metadata": {},
   "outputs": [],
   "source": [
    "df = pd.read_csv('PotterScores.csv')"
   ]
  },
  {
   "cell_type": "code",
   "execution_count": 6,
   "id": "e1d76cc6",
   "metadata": {},
   "outputs": [
    {
     "data": {
      "text/html": [
       "<div>\n",
       "<style scoped>\n",
       "    .dataframe tbody tr th:only-of-type {\n",
       "        vertical-align: middle;\n",
       "    }\n",
       "\n",
       "    .dataframe tbody tr th {\n",
       "        vertical-align: top;\n",
       "    }\n",
       "\n",
       "    .dataframe thead th {\n",
       "        text-align: right;\n",
       "    }\n",
       "</style>\n",
       "<table border=\"1\" class=\"dataframe\">\n",
       "  <thead>\n",
       "    <tr style=\"text-align: right;\">\n",
       "      <th></th>\n",
       "      <th>Date</th>\n",
       "      <th>Time</th>\n",
       "      <th>Comp</th>\n",
       "      <th>Round</th>\n",
       "      <th>Day</th>\n",
       "      <th>Venue</th>\n",
       "      <th>Result</th>\n",
       "      <th>GF</th>\n",
       "      <th>GA</th>\n",
       "      <th>Opponent</th>\n",
       "      <th>xG</th>\n",
       "      <th>xGA</th>\n",
       "      <th>Poss</th>\n",
       "      <th>Attendance</th>\n",
       "      <th>Captain</th>\n",
       "      <th>Formation</th>\n",
       "      <th>Referee</th>\n",
       "      <th>Match Report</th>\n",
       "      <th>Notes</th>\n",
       "    </tr>\n",
       "  </thead>\n",
       "  <tbody>\n",
       "    <tr>\n",
       "      <th>0</th>\n",
       "      <td>2022-08-06</td>\n",
       "      <td>17:30</td>\n",
       "      <td>Premier League</td>\n",
       "      <td>Matchweek 1</td>\n",
       "      <td>Sat</td>\n",
       "      <td>Away</td>\n",
       "      <td>W</td>\n",
       "      <td>1</td>\n",
       "      <td>0</td>\n",
       "      <td>Everton</td>\n",
       "      <td>1.5</td>\n",
       "      <td>0.7</td>\n",
       "      <td>62</td>\n",
       "      <td>39254.0</td>\n",
       "      <td>César Azpilicueta</td>\n",
       "      <td>3-4-3</td>\n",
       "      <td>Craig Pawson</td>\n",
       "      <td>Match Report</td>\n",
       "      <td>NaN</td>\n",
       "    </tr>\n",
       "    <tr>\n",
       "      <th>1</th>\n",
       "      <td>2022-08-14</td>\n",
       "      <td>16:30</td>\n",
       "      <td>Premier League</td>\n",
       "      <td>Matchweek 2</td>\n",
       "      <td>Sun</td>\n",
       "      <td>Home</td>\n",
       "      <td>D</td>\n",
       "      <td>2</td>\n",
       "      <td>2</td>\n",
       "      <td>Tottenham</td>\n",
       "      <td>1.6</td>\n",
       "      <td>1.0</td>\n",
       "      <td>63</td>\n",
       "      <td>39946.0</td>\n",
       "      <td>Jorginho</td>\n",
       "      <td>3-5-2</td>\n",
       "      <td>Anthony Taylor</td>\n",
       "      <td>Match Report</td>\n",
       "      <td>NaN</td>\n",
       "    </tr>\n",
       "    <tr>\n",
       "      <th>2</th>\n",
       "      <td>2022-08-21</td>\n",
       "      <td>14:00</td>\n",
       "      <td>Premier League</td>\n",
       "      <td>Matchweek 3</td>\n",
       "      <td>Sun</td>\n",
       "      <td>Away</td>\n",
       "      <td>L</td>\n",
       "      <td>0</td>\n",
       "      <td>3</td>\n",
       "      <td>Leeds United</td>\n",
       "      <td>0.9</td>\n",
       "      <td>2.1</td>\n",
       "      <td>61</td>\n",
       "      <td>36372.0</td>\n",
       "      <td>Jorginho</td>\n",
       "      <td>3-5-2</td>\n",
       "      <td>Stuart Attwell</td>\n",
       "      <td>Match Report</td>\n",
       "      <td>NaN</td>\n",
       "    </tr>\n",
       "    <tr>\n",
       "      <th>3</th>\n",
       "      <td>2022-08-27</td>\n",
       "      <td>15:00</td>\n",
       "      <td>Premier League</td>\n",
       "      <td>Matchweek 4</td>\n",
       "      <td>Sat</td>\n",
       "      <td>Home</td>\n",
       "      <td>W</td>\n",
       "      <td>2</td>\n",
       "      <td>1</td>\n",
       "      <td>Leicester City</td>\n",
       "      <td>1.8</td>\n",
       "      <td>2.5</td>\n",
       "      <td>45</td>\n",
       "      <td>39953.0</td>\n",
       "      <td>Jorginho</td>\n",
       "      <td>4-4-2</td>\n",
       "      <td>Paul Tierney</td>\n",
       "      <td>Match Report</td>\n",
       "      <td>NaN</td>\n",
       "    </tr>\n",
       "    <tr>\n",
       "      <th>4</th>\n",
       "      <td>2022-08-30</td>\n",
       "      <td>19:45</td>\n",
       "      <td>Premier League</td>\n",
       "      <td>Matchweek 5</td>\n",
       "      <td>Tue</td>\n",
       "      <td>Away</td>\n",
       "      <td>L</td>\n",
       "      <td>1</td>\n",
       "      <td>2</td>\n",
       "      <td>Southampton</td>\n",
       "      <td>1.1</td>\n",
       "      <td>1.1</td>\n",
       "      <td>67</td>\n",
       "      <td>31542.0</td>\n",
       "      <td>César Azpilicueta</td>\n",
       "      <td>4-2-2-2</td>\n",
       "      <td>Michael Oliver</td>\n",
       "      <td>Match Report</td>\n",
       "      <td>NaN</td>\n",
       "    </tr>\n",
       "  </tbody>\n",
       "</table>\n",
       "</div>"
      ],
      "text/plain": [
       "         Date   Time            Comp        Round  Day Venue Result  GF  GA  \\\n",
       "0  2022-08-06  17:30  Premier League  Matchweek 1  Sat  Away      W   1   0   \n",
       "1  2022-08-14  16:30  Premier League  Matchweek 2  Sun  Home      D   2   2   \n",
       "2  2022-08-21  14:00  Premier League  Matchweek 3  Sun  Away      L   0   3   \n",
       "3  2022-08-27  15:00  Premier League  Matchweek 4  Sat  Home      W   2   1   \n",
       "4  2022-08-30  19:45  Premier League  Matchweek 5  Tue  Away      L   1   2   \n",
       "\n",
       "         Opponent   xG  xGA  Poss  Attendance            Captain Formation  \\\n",
       "0         Everton  1.5  0.7    62     39254.0  César Azpilicueta     3-4-3   \n",
       "1       Tottenham  1.6  1.0    63     39946.0           Jorginho     3-5-2   \n",
       "2    Leeds United  0.9  2.1    61     36372.0           Jorginho     3-5-2   \n",
       "3  Leicester City  1.8  2.5    45     39953.0           Jorginho     4-4-2   \n",
       "4     Southampton  1.1  1.1    67     31542.0  César Azpilicueta   4-2-2-2   \n",
       "\n",
       "          Referee  Match Report Notes  \n",
       "0    Craig Pawson  Match Report   NaN  \n",
       "1  Anthony Taylor  Match Report   NaN  \n",
       "2  Stuart Attwell  Match Report   NaN  \n",
       "3    Paul Tierney  Match Report   NaN  \n",
       "4  Michael Oliver  Match Report   NaN  "
      ]
     },
     "execution_count": 6,
     "metadata": {},
     "output_type": "execute_result"
    }
   ],
   "source": [
    "df.head()"
   ]
  },
  {
   "cell_type": "code",
   "execution_count": 7,
   "id": "58e73931",
   "metadata": {},
   "outputs": [
    {
     "name": "stdout",
     "output_type": "stream",
     "text": [
      "Date             object\n",
      "Time             object\n",
      "Comp             object\n",
      "Round            object\n",
      "Day              object\n",
      "Venue            object\n",
      "Result           object\n",
      "GF                int64\n",
      "GA                int64\n",
      "Opponent         object\n",
      "xG              float64\n",
      "xGA             float64\n",
      "Poss              int64\n",
      "Attendance      float64\n",
      "Captain          object\n",
      "Formation        object\n",
      "Referee          object\n",
      "Match Report     object\n",
      "Notes            object\n",
      "dtype: object\n"
     ]
    }
   ],
   "source": [
    "print(df.dtypes)"
   ]
  },
  {
   "cell_type": "code",
   "execution_count": 8,
   "id": "1025abf7",
   "metadata": {},
   "outputs": [],
   "source": [
    "df['Date'] = pd.to_datetime(df['Date'])"
   ]
  },
  {
   "cell_type": "code",
   "execution_count": 9,
   "id": "d3126c85",
   "metadata": {},
   "outputs": [
    {
     "name": "stdout",
     "output_type": "stream",
     "text": [
      "Date            datetime64[ns]\n",
      "Time                    object\n",
      "Comp                    object\n",
      "Round                   object\n",
      "Day                     object\n",
      "Venue                   object\n",
      "Result                  object\n",
      "GF                       int64\n",
      "GA                       int64\n",
      "Opponent                object\n",
      "xG                     float64\n",
      "xGA                    float64\n",
      "Poss                     int64\n",
      "Attendance             float64\n",
      "Captain                 object\n",
      "Formation               object\n",
      "Referee                 object\n",
      "Match Report            object\n",
      "Notes                   object\n",
      "dtype: object\n"
     ]
    }
   ],
   "source": [
    "print(df.dtypes)"
   ]
  },
  {
   "cell_type": "code",
   "execution_count": 10,
   "id": "1cf489ae",
   "metadata": {},
   "outputs": [],
   "source": [
    "df1 = df[7:38]"
   ]
  },
  {
   "cell_type": "code",
   "execution_count": 12,
   "id": "457fcfe6",
   "metadata": {},
   "outputs": [],
   "source": [
    "potter = df1[['Date', 'Comp', 'Round', 'Venue', 'Result', 'GF', 'GA', 'xG', 'xGA', 'Poss', 'Formation']]"
   ]
  },
  {
   "cell_type": "code",
   "execution_count": 14,
   "id": "aaded85b",
   "metadata": {},
   "outputs": [
    {
     "name": "stderr",
     "output_type": "stream",
     "text": [
      "/var/folders/fg/x89f081d7zd6c8lmzxzkcj200000gn/T/ipykernel_98765/381005018.py:1: SettingWithCopyWarning: \n",
      "A value is trying to be set on a copy of a slice from a DataFrame.\n",
      "Try using .loc[row_indexer,col_indexer] = value instead\n",
      "\n",
      "See the caveats in the documentation: https://pandas.pydata.org/pandas-docs/stable/user_guide/indexing.html#returning-a-view-versus-a-copy\n",
      "  potter['game_num'] = potter.reset_index().index + 1\n"
     ]
    }
   ],
   "source": [
    "potter['game_num'] = potter.reset_index().index + 1"
   ]
  },
  {
   "cell_type": "code",
   "execution_count": 18,
   "id": "315d18c9",
   "metadata": {},
   "outputs": [],
   "source": [
    "dft = pd.read_csv('TuchelScores.csv')"
   ]
  },
  {
   "cell_type": "code",
   "execution_count": 19,
   "id": "6a358b58",
   "metadata": {},
   "outputs": [
    {
     "data": {
      "text/html": [
       "<div>\n",
       "<style scoped>\n",
       "    .dataframe tbody tr th:only-of-type {\n",
       "        vertical-align: middle;\n",
       "    }\n",
       "\n",
       "    .dataframe tbody tr th {\n",
       "        vertical-align: top;\n",
       "    }\n",
       "\n",
       "    .dataframe thead th {\n",
       "        text-align: right;\n",
       "    }\n",
       "</style>\n",
       "<table border=\"1\" class=\"dataframe\">\n",
       "  <thead>\n",
       "    <tr style=\"text-align: right;\">\n",
       "      <th></th>\n",
       "      <th>Date</th>\n",
       "      <th>Time</th>\n",
       "      <th>Comp</th>\n",
       "      <th>Round</th>\n",
       "      <th>Day</th>\n",
       "      <th>Venue</th>\n",
       "      <th>Result</th>\n",
       "      <th>GF</th>\n",
       "      <th>GA</th>\n",
       "      <th>Opponent</th>\n",
       "      <th>xG</th>\n",
       "      <th>xGA</th>\n",
       "      <th>Poss</th>\n",
       "      <th>Attendance</th>\n",
       "      <th>Captain</th>\n",
       "      <th>Formation</th>\n",
       "      <th>Referee</th>\n",
       "      <th>Match Report</th>\n",
       "      <th>Notes</th>\n",
       "    </tr>\n",
       "  </thead>\n",
       "  <tbody>\n",
       "    <tr>\n",
       "      <th>0</th>\n",
       "      <td>2021-01-27</td>\n",
       "      <td>18:00</td>\n",
       "      <td>Premier League</td>\n",
       "      <td>Matchweek 20</td>\n",
       "      <td>Wed</td>\n",
       "      <td>Home</td>\n",
       "      <td>D</td>\n",
       "      <td>0</td>\n",
       "      <td>0</td>\n",
       "      <td>Wolves</td>\n",
       "      <td>0.7</td>\n",
       "      <td>0.5</td>\n",
       "      <td>78</td>\n",
       "      <td>NaN</td>\n",
       "      <td>César Azpilicueta</td>\n",
       "      <td>3-4-3</td>\n",
       "      <td>Andy Madley</td>\n",
       "      <td>Match Report</td>\n",
       "      <td>NaN</td>\n",
       "    </tr>\n",
       "    <tr>\n",
       "      <th>1</th>\n",
       "      <td>2021-01-31</td>\n",
       "      <td>12:00</td>\n",
       "      <td>Premier League</td>\n",
       "      <td>Matchweek 21</td>\n",
       "      <td>Sun</td>\n",
       "      <td>Home</td>\n",
       "      <td>W</td>\n",
       "      <td>2</td>\n",
       "      <td>0</td>\n",
       "      <td>Burnley</td>\n",
       "      <td>1.2</td>\n",
       "      <td>0.2</td>\n",
       "      <td>70</td>\n",
       "      <td>NaN</td>\n",
       "      <td>César Azpilicueta</td>\n",
       "      <td>3-4-3</td>\n",
       "      <td>Graham Scott</td>\n",
       "      <td>Match Report</td>\n",
       "      <td>NaN</td>\n",
       "    </tr>\n",
       "    <tr>\n",
       "      <th>2</th>\n",
       "      <td>2021-02-04</td>\n",
       "      <td>20:00</td>\n",
       "      <td>Premier League</td>\n",
       "      <td>Matchweek 22</td>\n",
       "      <td>Thu</td>\n",
       "      <td>Away</td>\n",
       "      <td>W</td>\n",
       "      <td>1</td>\n",
       "      <td>0</td>\n",
       "      <td>Tottenham</td>\n",
       "      <td>1.6</td>\n",
       "      <td>0.6</td>\n",
       "      <td>58</td>\n",
       "      <td>NaN</td>\n",
       "      <td>César Azpilicueta</td>\n",
       "      <td>3-4-1-2</td>\n",
       "      <td>Andre Marriner</td>\n",
       "      <td>Match Report</td>\n",
       "      <td>NaN</td>\n",
       "    </tr>\n",
       "    <tr>\n",
       "      <th>3</th>\n",
       "      <td>2021-02-07</td>\n",
       "      <td>19:15</td>\n",
       "      <td>Premier League</td>\n",
       "      <td>Matchweek 23</td>\n",
       "      <td>Sun</td>\n",
       "      <td>Away</td>\n",
       "      <td>W</td>\n",
       "      <td>2</td>\n",
       "      <td>1</td>\n",
       "      <td>Sheffield Utd</td>\n",
       "      <td>1.6</td>\n",
       "      <td>0.6</td>\n",
       "      <td>68</td>\n",
       "      <td>NaN</td>\n",
       "      <td>César Azpilicueta</td>\n",
       "      <td>3-4-3</td>\n",
       "      <td>Kevin Friend</td>\n",
       "      <td>Match Report</td>\n",
       "      <td>NaN</td>\n",
       "    </tr>\n",
       "    <tr>\n",
       "      <th>4</th>\n",
       "      <td>2021-02-11</td>\n",
       "      <td>20:00</td>\n",
       "      <td>FA Cup</td>\n",
       "      <td>Fifth round proper</td>\n",
       "      <td>Thu</td>\n",
       "      <td>Away</td>\n",
       "      <td>W</td>\n",
       "      <td>1</td>\n",
       "      <td>0</td>\n",
       "      <td>Barnsley</td>\n",
       "      <td>NaN</td>\n",
       "      <td>NaN</td>\n",
       "      <td>72</td>\n",
       "      <td>NaN</td>\n",
       "      <td>N'Golo Kanté</td>\n",
       "      <td>3-4-3</td>\n",
       "      <td>Martin Atkinson</td>\n",
       "      <td>Match Report</td>\n",
       "      <td>NaN</td>\n",
       "    </tr>\n",
       "  </tbody>\n",
       "</table>\n",
       "</div>"
      ],
      "text/plain": [
       "         Date   Time            Comp               Round  Day Venue Result  \\\n",
       "0  2021-01-27  18:00  Premier League        Matchweek 20  Wed  Home      D   \n",
       "1  2021-01-31  12:00  Premier League        Matchweek 21  Sun  Home      W   \n",
       "2  2021-02-04  20:00  Premier League        Matchweek 22  Thu  Away      W   \n",
       "3  2021-02-07  19:15  Premier League        Matchweek 23  Sun  Away      W   \n",
       "4  2021-02-11  20:00          FA Cup  Fifth round proper  Thu  Away      W   \n",
       "\n",
       "   GF  GA       Opponent   xG  xGA  Poss  Attendance            Captain  \\\n",
       "0   0   0         Wolves  0.7  0.5    78         NaN  César Azpilicueta   \n",
       "1   2   0        Burnley  1.2  0.2    70         NaN  César Azpilicueta   \n",
       "2   1   0      Tottenham  1.6  0.6    58         NaN  César Azpilicueta   \n",
       "3   2   1  Sheffield Utd  1.6  0.6    68         NaN  César Azpilicueta   \n",
       "4   1   0       Barnsley  NaN  NaN    72         NaN       N'Golo Kanté   \n",
       "\n",
       "  Formation          Referee  Match Report Notes  \n",
       "0     3-4-3      Andy Madley  Match Report   NaN  \n",
       "1     3-4-3     Graham Scott  Match Report   NaN  \n",
       "2   3-4-1-2   Andre Marriner  Match Report   NaN  \n",
       "3     3-4-3     Kevin Friend  Match Report   NaN  \n",
       "4     3-4-3  Martin Atkinson  Match Report   NaN  "
      ]
     },
     "execution_count": 19,
     "metadata": {},
     "output_type": "execute_result"
    }
   ],
   "source": [
    "dft.head()"
   ]
  },
  {
   "cell_type": "code",
   "execution_count": 21,
   "id": "e6d8404b",
   "metadata": {},
   "outputs": [],
   "source": [
    "dft['Date'] = pd.to_datetime(dft['Date'])"
   ]
  },
  {
   "cell_type": "code",
   "execution_count": 22,
   "id": "ab0f2724",
   "metadata": {},
   "outputs": [],
   "source": [
    "tuchel = dft[['Date', 'Comp', 'Round', 'Venue', 'Result', 'GF', 'GA', 'xG', 'xGA', 'Poss', 'Formation']]"
   ]
  },
  {
   "cell_type": "code",
   "execution_count": 23,
   "id": "33803d89",
   "metadata": {},
   "outputs": [
    {
     "name": "stderr",
     "output_type": "stream",
     "text": [
      "/var/folders/fg/x89f081d7zd6c8lmzxzkcj200000gn/T/ipykernel_98765/2806488656.py:1: SettingWithCopyWarning: \n",
      "A value is trying to be set on a copy of a slice from a DataFrame.\n",
      "Try using .loc[row_indexer,col_indexer] = value instead\n",
      "\n",
      "See the caveats in the documentation: https://pandas.pydata.org/pandas-docs/stable/user_guide/indexing.html#returning-a-view-versus-a-copy\n",
      "  tuchel['game_num'] = tuchel.reset_index().index + 1\n"
     ]
    }
   ],
   "source": [
    "tuchel['game_num'] = tuchel.reset_index().index + 1"
   ]
  },
  {
   "cell_type": "code",
   "execution_count": 25,
   "id": "537e41c0",
   "metadata": {},
   "outputs": [],
   "source": [
    "missing_row = {'Date': '2021-08-11', 'Comp' : ' Super Cup', 'Round' : 'UEFA Super Cup', 'Venue':'Home', 'Result':'W', 'GF':1, 'GA':1, 'xG':'NaN', 'xGA':'NaN', 'Poss':62, \"Formation\": '3-4-3', 'game_num':31 }"
   ]
  },
  {
   "cell_type": "code",
   "execution_count": 26,
   "id": "f7460402",
   "metadata": {},
   "outputs": [],
   "source": [
    "tuchel2 = tuchel.append(missing_row, ignore_index=True)"
   ]
  },
  {
   "cell_type": "code",
   "execution_count": 108,
   "id": "c8bb6d55",
   "metadata": {},
   "outputs": [],
   "source": [
    "tuchel = tuchel2"
   ]
  },
  {
   "cell_type": "code",
   "execution_count": 30,
   "id": "38396ead",
   "metadata": {},
   "outputs": [],
   "source": [
    "# Create new column with converted date format\n",
    "tuchel['Date'] = pd.to_datetime(tuchel['Date'])\n"
   ]
  },
  {
   "cell_type": "code",
   "execution_count": 31,
   "id": "49cb11cb",
   "metadata": {},
   "outputs": [
    {
     "name": "stderr",
     "output_type": "stream",
     "text": [
      "/var/folders/fg/x89f081d7zd6c8lmzxzkcj200000gn/T/ipykernel_98765/506567663.py:2: SettingWithCopyWarning: \n",
      "A value is trying to be set on a copy of a slice from a DataFrame.\n",
      "Try using .loc[row_indexer,col_indexer] = value instead\n",
      "\n",
      "See the caveats in the documentation: https://pandas.pydata.org/pandas-docs/stable/user_guide/indexing.html#returning-a-view-versus-a-copy\n",
      "  potter['Date'] = pd.to_datetime(potter['Date'])\n"
     ]
    }
   ],
   "source": [
    "# Create new column with converted date format\n",
    "potter['Date'] = pd.to_datetime(potter['Date'])"
   ]
  },
  {
   "cell_type": "code",
   "execution_count": null,
   "id": "83291bc5",
   "metadata": {},
   "outputs": [],
   "source": [
    "#writer = pd.ExcelWriter('chelsea_workbook.xlsx', engine='xlsxwriter')\n",
    "\n",
    "# Write dataframes to Excel sheets\n",
    "#potter.to_excel(writer, sheet_name='potter')\n",
    "#tuchel.to_excel(writer, sheet_name='tuchel')\n",
    "\n",
    "# Save the workbook\n",
    "#writer.save()"
   ]
  },
  {
   "cell_type": "code",
   "execution_count": 34,
   "id": "4373b7b5",
   "metadata": {},
   "outputs": [],
   "source": [
    "import matplotlib.pyplot as plt"
   ]
  },
  {
   "cell_type": "code",
   "execution_count": 37,
   "id": "5fef4ab0",
   "metadata": {},
   "outputs": [],
   "source": [
    "potter_results = potter['Result'].value_counts()"
   ]
  },
  {
   "cell_type": "code",
   "execution_count": 38,
   "id": "992259b8",
   "metadata": {},
   "outputs": [],
   "source": [
    "tuchel_results = tuchel['Result'].value_counts()"
   ]
  },
  {
   "cell_type": "code",
   "execution_count": 43,
   "id": "e5801f79",
   "metadata": {},
   "outputs": [],
   "source": [
    "results_df = pd.DataFrame({'Potter': potter_results, 'Tuchel': tuchel_results})"
   ]
  },
  {
   "cell_type": "code",
   "execution_count": 44,
   "id": "93a8e976",
   "metadata": {},
   "outputs": [
    {
     "data": {
      "text/html": [
       "<div>\n",
       "<style scoped>\n",
       "    .dataframe tbody tr th:only-of-type {\n",
       "        vertical-align: middle;\n",
       "    }\n",
       "\n",
       "    .dataframe tbody tr th {\n",
       "        vertical-align: top;\n",
       "    }\n",
       "\n",
       "    .dataframe thead th {\n",
       "        text-align: right;\n",
       "    }\n",
       "</style>\n",
       "<table border=\"1\" class=\"dataframe\">\n",
       "  <thead>\n",
       "    <tr style=\"text-align: right;\">\n",
       "      <th></th>\n",
       "      <th>Potter</th>\n",
       "      <th>Tuchel</th>\n",
       "    </tr>\n",
       "  </thead>\n",
       "  <tbody>\n",
       "    <tr>\n",
       "      <th>D</th>\n",
       "      <td>8</td>\n",
       "      <td>6</td>\n",
       "    </tr>\n",
       "    <tr>\n",
       "      <th>L</th>\n",
       "      <td>11</td>\n",
       "      <td>5</td>\n",
       "    </tr>\n",
       "    <tr>\n",
       "      <th>W</th>\n",
       "      <td>12</td>\n",
       "      <td>20</td>\n",
       "    </tr>\n",
       "  </tbody>\n",
       "</table>\n",
       "</div>"
      ],
      "text/plain": [
       "   Potter  Tuchel\n",
       "D       8       6\n",
       "L      11       5\n",
       "W      12      20"
      ]
     },
     "execution_count": 44,
     "metadata": {},
     "output_type": "execute_result"
    }
   ],
   "source": [
    "results_df"
   ]
  },
  {
   "cell_type": "code",
   "execution_count": 60,
   "id": "551adb86",
   "metadata": {},
   "outputs": [],
   "source": [
    "writer = pd.ExcelWriter('chelsea_workbook.xlsx', engine='xlsxwriter')\n",
    "\n",
    "# Write dataframes to Excel sheets\n",
    "results_df.to_excel(writer, sheet_name='results')\n",
    "# Save the workbook\n",
    "writer.save()"
   ]
  },
  {
   "cell_type": "code",
   "execution_count": 48,
   "id": "c35f02be",
   "metadata": {},
   "outputs": [
    {
     "data": {
      "image/png": "[encoded data removed]",
      "text/plain": [
       "<Figure size 720x432 with 1 Axes>"
      ]
     },
     "metadata": {
      "needs_background": "light"
     },
     "output_type": "display_data"
    }
   ],
   "source": [
    "results_df.plot(kind='bar', figsize=(10, 6))\n",
    "\n",
    "plt.title('Comparison of Results: Potter vs. Tuchel')\n",
    "plt.xlabel('Result')\n",
    "plt.ylabel('Number of Games')\n",
    "plt.xticks(rotation=0)\n",
    "plt.legend(title='Results', labels=['Wins', 'Losses', 'Draws'])\n",
    "\n",
    "plt.show()\n"
   ]
  },
  {
   "cell_type": "code",
   "execution_count": 49,
   "id": "4afd0764",
   "metadata": {},
   "outputs": [],
   "source": [
    "#lets do one for the goals for and goals against columns"
   ]
  },
  {
   "cell_type": "code",
   "execution_count": 52,
   "id": "b6896f60",
   "metadata": {},
   "outputs": [],
   "source": [
    "#sum all the goals for and goals against for each manager\n",
    "potter_gf = potter['GF'].sum()\n",
    "potter_ga = potter['GA'].sum()\n",
    "tuchel_gf = tuchel['GF'].sum()\n",
    "tuchel_ga = tuchel['GA'].sum()\n"
   ]
  },
  {
   "cell_type": "code",
   "execution_count": 53,
   "id": "4c629258",
   "metadata": {},
   "outputs": [],
   "source": [
    "#make a dataframe cosisting of these values\n",
    "goals_df = pd.DataFrame({'Potter': [potter_gf, potter_ga], 'Tuchel': [tuchel_gf, tuchel_ga]}, index=['GF', 'GA'])\n"
   ]
  },
  {
   "cell_type": "code",
   "execution_count": 54,
   "id": "f2825883",
   "metadata": {},
   "outputs": [
    {
     "data": {
      "text/html": [
       "<div>\n",
       "<style scoped>\n",
       "    .dataframe tbody tr th:only-of-type {\n",
       "        vertical-align: middle;\n",
       "    }\n",
       "\n",
       "    .dataframe tbody tr th {\n",
       "        vertical-align: top;\n",
       "    }\n",
       "\n",
       "    .dataframe thead th {\n",
       "        text-align: right;\n",
       "    }\n",
       "</style>\n",
       "<table border=\"1\" class=\"dataframe\">\n",
       "  <thead>\n",
       "    <tr style=\"text-align: right;\">\n",
       "      <th></th>\n",
       "      <th>Potter</th>\n",
       "      <th>Tuchel</th>\n",
       "    </tr>\n",
       "  </thead>\n",
       "  <tbody>\n",
       "    <tr>\n",
       "      <th>GF</th>\n",
       "      <td>33</td>\n",
       "      <td>39</td>\n",
       "    </tr>\n",
       "    <tr>\n",
       "      <th>GA</th>\n",
       "      <td>31</td>\n",
       "      <td>17</td>\n",
       "    </tr>\n",
       "  </tbody>\n",
       "</table>\n",
       "</div>"
      ],
      "text/plain": [
       "    Potter  Tuchel\n",
       "GF      33      39\n",
       "GA      31      17"
      ]
     },
     "execution_count": 54,
     "metadata": {},
     "output_type": "execute_result"
    }
   ],
   "source": [
    "goals_df"
   ]
  },
  {
   "cell_type": "code",
   "execution_count": 55,
   "id": "9302c9a0",
   "metadata": {},
   "outputs": [
    {
     "data": {
      "image/png": "[encoded data removed]",
      "text/plain": [
       "<Figure size 720x432 with 1 Axes>"
      ]
     },
     "metadata": {
      "needs_background": "light"
     },
     "output_type": "display_data"
    }
   ],
   "source": [
    "goals_df.plot(kind='bar', figsize=(10, 6))\n",
    "\n",
    "plt.title('Comparison of Goals For and Goals Against: Potter vs. Tuchel')\n",
    "plt.xlabel('Goal Metrics')\n",
    "plt.ylabel('Total Goals')\n",
    "plt.xticks(rotation=0)\n",
    "plt.legend(title='Manager', labels=['Potter', 'Tuchel'])\n",
    "\n",
    "plt.show()\n"
   ]
  },
  {
   "cell_type": "code",
   "execution_count": 129,
   "id": "5623feb8",
   "metadata": {},
   "outputs": [
    {
     "name": "stderr",
     "output_type": "stream",
     "text": [
      "/var/folders/fg/x89f081d7zd6c8lmzxzkcj200000gn/T/ipykernel_98765/3152012115.py:3: SettingWithCopyWarning: \n",
      "A value is trying to be set on a copy of a slice from a DataFrame.\n",
      "Try using .loc[row_indexer,col_indexer] = value instead\n",
      "\n",
      "See the caveats in the documentation: https://pandas.pydata.org/pandas-docs/stable/user_guide/indexing.html#returning-a-view-versus-a-copy\n",
      "  potter['xG'] = pd.to_numeric(potter['xG'], errors = 'coerce')\n"
     ]
    }
   ],
   "source": [
    "#now lets look at expected goals\n",
    "#first have to deal with the NaN values\n",
    "potter['xG'] = pd.to_numeric(potter['xG'], errors = 'coerce')\n",
    "tuchel['xG'] = pd.to_numeric(tuchel['xG'], errors='coerce')\n",
    "\n",
    "potter = potter.dropna(subset=['xG'])\n",
    "tuchel = tuchel.dropna(subset=['xG'])"
   ]
  },
  {
   "cell_type": "code",
   "execution_count": 135,
   "id": "e7cf95d3",
   "metadata": {},
   "outputs": [],
   "source": [
    "potter_xg = potter['xG'].mean()\n",
    "tuchel_xg = tuchel['xG'].mean()"
   ]
  },
  {
   "cell_type": "code",
   "execution_count": 136,
   "id": "3e1e476e",
   "metadata": {},
   "outputs": [],
   "source": [
    "xg_df = pd.DataFrame({'Average xG': [potter_xg, tuchel_xg]}, index=['Potter', 'Tuchel'])\n"
   ]
  },
  {
   "cell_type": "code",
   "execution_count": 75,
   "id": "f76246a5",
   "metadata": {},
   "outputs": [
    {
     "data": {
      "text/html": [
       "<div>\n",
       "<style scoped>\n",
       "    .dataframe tbody tr th:only-of-type {\n",
       "        vertical-align: middle;\n",
       "    }\n",
       "\n",
       "    .dataframe tbody tr th {\n",
       "        vertical-align: top;\n",
       "    }\n",
       "\n",
       "    .dataframe thead th {\n",
       "        text-align: right;\n",
       "    }\n",
       "</style>\n",
       "<table border=\"1\" class=\"dataframe\">\n",
       "  <thead>\n",
       "    <tr style=\"text-align: right;\">\n",
       "      <th></th>\n",
       "      <th>Average xG</th>\n",
       "    </tr>\n",
       "  </thead>\n",
       "  <tbody>\n",
       "    <tr>\n",
       "      <th>Potter</th>\n",
       "      <td>1.410345</td>\n",
       "    </tr>\n",
       "    <tr>\n",
       "      <th>Tuchel</th>\n",
       "      <td>1.765385</td>\n",
       "    </tr>\n",
       "  </tbody>\n",
       "</table>\n",
       "</div>"
      ],
      "text/plain": [
       "        Average xG\n",
       "Potter    1.410345\n",
       "Tuchel    1.765385"
      ]
     },
     "execution_count": 75,
     "metadata": {},
     "output_type": "execute_result"
    }
   ],
   "source": [
    "xg_df"
   ]
  },
  {
   "cell_type": "code",
   "execution_count": 138,
   "id": "e24baaf8",
   "metadata": {},
   "outputs": [
    {
     "data": {
      "text/plain": [
       "Poss        29\n",
       "game_num    29\n",
       "dtype: int64"
      ]
     },
     "execution_count": 138,
     "metadata": {},
     "output_type": "execute_result"
    }
   ],
   "source": [
    "#looking at possession\n"
   ]
  },
  {
   "cell_type": "code",
   "execution_count": 144,
   "id": "a868f61f",
   "metadata": {},
   "outputs": [
    {
     "data": {
      "text/plain": [
       "58.76923076923077"
      ]
     },
     "execution_count": 144,
     "metadata": {},
     "output_type": "execute_result"
    }
   ],
   "source": [
    "tuchel['Poss'].mean()"
   ]
  },
  {
   "cell_type": "code",
   "execution_count": 146,
   "id": "a8753508",
   "metadata": {},
   "outputs": [
    {
     "data": {
      "text/plain": [
       "58.793103448275865"
      ]
     },
     "execution_count": 146,
     "metadata": {},
     "output_type": "execute_result"
    }
   ],
   "source": [
    "potter['Poss'].mean()"
   ]
  },
  {
   "cell_type": "markdown",
   "id": "94a5a90a",
   "metadata": {},
   "source": [
    "## load in the new data, make sure its for the same games, keep going "
   ]
  },
  {
   "cell_type": "code",
   "execution_count": null,
   "id": "f7ef90fa",
   "metadata": {},
   "outputs": [],
   "source": [
    "#pass completion percentage (AVG), yellow cards, red cards "
   ]
  },
  {
   "cell_type": "code",
   "execution_count": 166,
   "id": "4b6175b5",
   "metadata": {},
   "outputs": [],
   "source": [
    "pc = pd.read_csv('potter_cards.csv')"
   ]
  },
  {
   "cell_type": "code",
   "execution_count": 178,
   "id": "a92a5506",
   "metadata": {},
   "outputs": [],
   "source": [
    "clean_potter = pc.iloc[7:-2, :]"
   ]
  },
  {
   "cell_type": "code",
   "execution_count": 181,
   "id": "f16b7332",
   "metadata": {},
   "outputs": [],
   "source": [
    "tc = pd.read_csv('tuchel_cards.csv')"
   ]
  },
  {
   "cell_type": "code",
   "execution_count": 184,
   "id": "4d0cebd6",
   "metadata": {},
   "outputs": [],
   "source": [
    "clean_tuchel = tc.iloc[:-1, :]"
   ]
  },
  {
   "cell_type": "code",
   "execution_count": 190,
   "id": "edd12d19",
   "metadata": {},
   "outputs": [],
   "source": [
    "potter_cards = clean_potter[['Date', 'CrdY', 'CrdR', 'Fls']]"
   ]
  },
  {
   "cell_type": "code",
   "execution_count": 195,
   "id": "7243c7e8",
   "metadata": {},
   "outputs": [
    {
     "data": {
      "text/plain": [
       "(31, 4)"
      ]
     },
     "execution_count": 195,
     "metadata": {},
     "output_type": "execute_result"
    }
   ],
   "source": [
    "potter_cards.shape"
   ]
  },
  {
   "cell_type": "code",
   "execution_count": 192,
   "id": "29c93f0f",
   "metadata": {},
   "outputs": [],
   "source": [
    "tuchel_cards = clean_tuchel[['Date', 'CrdY', 'CrdR', 'Fls']]"
   ]
  },
  {
   "cell_type": "code",
   "execution_count": 194,
   "id": "2afe19c7",
   "metadata": {},
   "outputs": [
    {
     "data": {
      "text/plain": [
       "(31, 4)"
      ]
     },
     "execution_count": 194,
     "metadata": {},
     "output_type": "execute_result"
    }
   ],
   "source": [
    "tuchel_cards.shape"
   ]
  },
  {
   "cell_type": "code",
   "execution_count": 196,
   "id": "408b0d66",
   "metadata": {},
   "outputs": [],
   "source": [
    "avg_tuchel = tuchel_cards[['CrdY', 'CrdR', 'Fls']].mean()\n",
    "avg_potter = potter_cards[['CrdY', 'CrdR', 'Fls']].mean()\n"
   ]
  },
  {
   "cell_type": "code",
   "execution_count": 200,
   "id": "a904e876",
   "metadata": {},
   "outputs": [],
   "source": [
    "tuchelyellow = tuchel_cards['CrdY'].sum()"
   ]
  },
  {
   "cell_type": "code",
   "execution_count": 202,
   "id": "35252f4a",
   "metadata": {},
   "outputs": [],
   "source": [
    "potter_yellow = potter_cards['CrdY'].sum()"
   ]
  },
  {
   "cell_type": "code",
   "execution_count": 209,
   "id": "82c8eabe",
   "metadata": {},
   "outputs": [],
   "source": [
    "tuchelfouls = tuchel_cards['Fls'].sum()"
   ]
  },
  {
   "cell_type": "code",
   "execution_count": 211,
   "id": "7de2c1c3",
   "metadata": {},
   "outputs": [],
   "source": [
    "potterfouls = potter_cards['Fls'].sum()"
   ]
  },
  {
   "cell_type": "code",
   "execution_count": 218,
   "id": "5280fae3",
   "metadata": {},
   "outputs": [],
   "source": [
    "cards_df = pd.DataFrame({'Cards': [potter_yellow, tuchelyellow]}, index=['Potter', 'Tuchel'])\n"
   ]
  },
  {
   "cell_type": "code",
   "execution_count": 219,
   "id": "7d9f14b5",
   "metadata": {},
   "outputs": [
    {
     "data": {
      "text/html": [
       "<div>\n",
       "<style scoped>\n",
       "    .dataframe tbody tr th:only-of-type {\n",
       "        vertical-align: middle;\n",
       "    }\n",
       "\n",
       "    .dataframe tbody tr th {\n",
       "        vertical-align: top;\n",
       "    }\n",
       "\n",
       "    .dataframe thead th {\n",
       "        text-align: right;\n",
       "    }\n",
       "</style>\n",
       "<table border=\"1\" class=\"dataframe\">\n",
       "  <thead>\n",
       "    <tr style=\"text-align: right;\">\n",
       "      <th></th>\n",
       "      <th>Cards</th>\n",
       "    </tr>\n",
       "  </thead>\n",
       "  <tbody>\n",
       "    <tr>\n",
       "      <th>Potter</th>\n",
       "      <td>66</td>\n",
       "    </tr>\n",
       "    <tr>\n",
       "      <th>Tuchel</th>\n",
       "      <td>33</td>\n",
       "    </tr>\n",
       "  </tbody>\n",
       "</table>\n",
       "</div>"
      ],
      "text/plain": [
       "        Cards\n",
       "Potter     66\n",
       "Tuchel     33"
      ]
     },
     "execution_count": 219,
     "metadata": {},
     "output_type": "execute_result"
    }
   ],
   "source": [
    "cards_df"
   ]
  },
  {
   "cell_type": "code",
   "execution_count": 220,
   "id": "b0eada09",
   "metadata": {},
   "outputs": [],
   "source": [
    "fouls_df = pd.DataFrame({'Fouls': [potterfouls, tuchelfouls]}, index=['Potter', 'Tuchel'])\n"
   ]
  },
  {
   "cell_type": "code",
   "execution_count": 221,
   "id": "803bb68d",
   "metadata": {},
   "outputs": [
    {
     "data": {
      "text/html": [
       "<div>\n",
       "<style scoped>\n",
       "    .dataframe tbody tr th:only-of-type {\n",
       "        vertical-align: middle;\n",
       "    }\n",
       "\n",
       "    .dataframe tbody tr th {\n",
       "        vertical-align: top;\n",
       "    }\n",
       "\n",
       "    .dataframe thead th {\n",
       "        text-align: right;\n",
       "    }\n",
       "</style>\n",
       "<table border=\"1\" class=\"dataframe\">\n",
       "  <thead>\n",
       "    <tr style=\"text-align: right;\">\n",
       "      <th></th>\n",
       "      <th>Fouls</th>\n",
       "    </tr>\n",
       "  </thead>\n",
       "  <tbody>\n",
       "    <tr>\n",
       "      <th>Potter</th>\n",
       "      <td>361</td>\n",
       "    </tr>\n",
       "    <tr>\n",
       "      <th>Tuchel</th>\n",
       "      <td>344</td>\n",
       "    </tr>\n",
       "  </tbody>\n",
       "</table>\n",
       "</div>"
      ],
      "text/plain": [
       "        Fouls\n",
       "Potter    361\n",
       "Tuchel    344"
      ]
     },
     "execution_count": 221,
     "metadata": {},
     "output_type": "execute_result"
    }
   ],
   "source": [
    "fouls_df"
   ]
  },
  {
   "cell_type": "markdown",
   "id": "a0e113b2",
   "metadata": {},
   "source": [
    "# load in passing data "
   ]
  },
  {
   "cell_type": "code",
   "execution_count": 240,
   "id": "0e72523f",
   "metadata": {},
   "outputs": [],
   "source": [
    "dft = pd.read_csv('tuchel_pass.csv')"
   ]
  },
  {
   "cell_type": "code",
   "execution_count": 242,
   "id": "9dfc66b8",
   "metadata": {},
   "outputs": [],
   "source": [
    "tuchel_clean = dft[29:]"
   ]
  },
  {
   "cell_type": "code",
   "execution_count": 244,
   "id": "b4a0fe4f",
   "metadata": {},
   "outputs": [
    {
     "data": {
      "text/plain": [
       "(31, 33)"
      ]
     },
     "execution_count": 244,
     "metadata": {},
     "output_type": "execute_result"
    }
   ],
   "source": [
    "tuchel_clean.shape"
   ]
  },
  {
   "cell_type": "code",
   "execution_count": 250,
   "id": "040b04ff",
   "metadata": {},
   "outputs": [
    {
     "data": {
      "text/plain": [
       "Index(['Date', 'Time', 'Comp', 'Round', 'Day', 'Venue', 'Result', 'GF', 'GA',\n",
       "       'Opponent', 'Cmp', 'Att', 'Cmp%', 'TotDist', 'PrgDist', 'Cmp.1',\n",
       "       'Att.1', 'Cmp%.1', 'Cmp.2', 'Att.2', 'Cmp%.2', 'Cmp.3', 'Att.3',\n",
       "       'Cmp%.3', 'Ast', 'xAG', 'xA', 'KP', '1/3', 'PPA', 'CrsPA', 'PrgP',\n",
       "       'Match Report'],\n",
       "      dtype='object')"
      ]
     },
     "execution_count": 250,
     "metadata": {},
     "output_type": "execute_result"
    }
   ],
   "source": [
    "tuchel_clean.columns"
   ]
  },
  {
   "cell_type": "code",
   "execution_count": 252,
   "id": "f0312d3d",
   "metadata": {},
   "outputs": [],
   "source": [
    "tuchel_pass = tuchel_clean[['Cmp%','PrgP']]"
   ]
  },
  {
   "cell_type": "code",
   "execution_count": 264,
   "id": "174bb908",
   "metadata": {},
   "outputs": [],
   "source": [
    "tuchel_cmp_avg = tuchel_pass['Cmp%'].mean(skipna=True)\n",
    "tuchel_prg_avg= tuchel_pass['PrgP'].mean(skipna=True)"
   ]
  },
  {
   "cell_type": "code",
   "execution_count": null,
   "id": "80483e88",
   "metadata": {},
   "outputs": [],
   "source": [
    "#potter averages"
   ]
  },
  {
   "cell_type": "code",
   "execution_count": 245,
   "id": "f56456c6",
   "metadata": {},
   "outputs": [],
   "source": [
    "dfp = pd.read_csv('potter_pass.csv')"
   ]
  },
  {
   "cell_type": "code",
   "execution_count": 247,
   "id": "73078b48",
   "metadata": {},
   "outputs": [],
   "source": [
    "potter_clean = dfp[7:]"
   ]
  },
  {
   "cell_type": "code",
   "execution_count": 255,
   "id": "f1d19e9a",
   "metadata": {},
   "outputs": [],
   "source": [
    "potter_pass = potter_clean[['Cmp%', 'PrgP']]"
   ]
  },
  {
   "cell_type": "code",
   "execution_count": 267,
   "id": "085cdc5b",
   "metadata": {},
   "outputs": [],
   "source": [
    "potter_cmp_avg = potter_pass['Cmp%'].mean(skipna=True)\n",
    "potter_prg_avg = potter_pass['PrgP'].mean(skipna=True)"
   ]
  },
  {
   "cell_type": "code",
   "execution_count": null,
   "id": "c0e83fc6",
   "metadata": {},
   "outputs": [],
   "source": [
    "#lets store these values in a dataframe"
   ]
  },
  {
   "cell_type": "code",
   "execution_count": 278,
   "id": "18ba1270",
   "metadata": {},
   "outputs": [],
   "source": [
    "pass_df = {\n",
    "    'Manager': ['Tuchel', 'Potter'],\n",
    "    'Mean Cmp%': [tuchel_cmp_avg, potter_cmp_avg],\n",
    "    'Mean PrgP': [tuchel_prg_avg, potter_prg_avg]\n",
    "}\n",
    "\n",
    "average_pass_df = pd.DataFrame(pass_df)\n"
   ]
  },
  {
   "cell_type": "code",
   "execution_count": 280,
   "id": "9b549981",
   "metadata": {},
   "outputs": [],
   "source": [
    "# Create an ExcelWriter object\n",
    "writer = pd.ExcelWriter('chelsea_workbook.xlsx', engine='xlsxwriter')\n",
    "\n",
    "# Write the results_df dataframe to the 'results' sheet\n",
    "results_df.to_excel(writer, sheet_name='results')\n",
    "\n",
    "# Write the goals_df dataframe to the 'GFvsGA' sheet\n",
    "goals_df.to_excel(writer, sheet_name='GFvsGA')\n",
    "\n",
    "#writing the xg_df to its sheet\n",
    "xg_df.to_excel(writer, sheet_name= 'xg')\n",
    "\n",
    "#writing cards to sheet\n",
    "cards_df.to_excel(writer, sheet_name = 'cards')\n",
    "\n",
    "#writing fouls to sheet\n",
    "fouls_df.to_excel(writer, sheet_name = 'fouls')\n",
    "\n",
    "#writing passes to a sheet\n",
    "average_pass_df.to_excel(writer, sheet_name = 'passes')\n",
    "\n",
    "# Save the workbook\n",
    "writer.save()\n"
   ]
  },
  {
   "cell_type": "code",
   "execution_count": null,
   "id": "431becb5",
   "metadata": {},
   "outputs": [],
   "source": []
  }
 ],
 "metadata": {
  "kernelspec": {
   "display_name": "Python 3 (ipykernel)",
   "language": "python",
   "name": "python3"
  },
  "language_info": {
   "codemirror_mode": {
    "name": "ipython",
    "version": 3
   },
   "file_extension": ".py",
   "mimetype": "text/x-python",
   "name": "python",
   "nbconvert_exporter": "python",
   "pygments_lexer": "ipython3",
   "version": "3.9.7"
  }
 },
 "nbformat": 4,
 "nbformat_minor": 5
}
